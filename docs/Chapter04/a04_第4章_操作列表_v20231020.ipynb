{
 "cells": [
  {
   "cell_type": "markdown",
   "id": "7487cf64",
   "metadata": {},
   "source": [
    "# 第 4 章　操作列表 / 20230329 <a class=\"tocSkip\">"
   ]
  },
  {
   "cell_type": "code",
   "execution_count": 24,
   "id": "686f406b",
   "metadata": {},
   "outputs": [
    {
     "name": "stdout",
     "output_type": "stream",
     "text": [
      "4.1-for循环\n",
      "['gm chevrolet', 'vw cross polo', 'vw passat', 'renaut clio']\n",
      "My cars is:\tGM CHEVROLET\n",
      "I like this car!\n",
      "\n",
      "My cars is:\tVW CROSS POLO\n",
      "I like this car!\n",
      "\n",
      "My cars is:\tVW PASSAT\n",
      "I like this car!\n",
      "\n",
      "My cars is:\tRENAUT CLIO\n",
      "I like this car!\n",
      "\n",
      "They are very good cars!\n"
     ]
    }
   ],
   "source": [
    "# 4.1　遍历整个列表：需要对列表中的每个元素都执行相同的操作时，可使用Python中的 for循环。\n",
    "print(\"4.1-for循环\")\n",
    "\n",
    "# 4.1.2　在 for 循环中执行更多操作: \n",
    "cars = ['gm chevrolet', 'vw cross polo', 'vw passat', 'renaut clio']\n",
    "print(cars)\n",
    "\n",
    "for car in cars:\n",
    "    print(f\"My cars is:\\t{car.upper()}\")\n",
    "    print(\"I like this car!\\n\")\n",
    "    \n",
    "print(\"They are very good cars!\")"
   ]
  },
  {
   "cell_type": "raw",
   "id": "dbae35cc",
   "metadata": {},
   "source": [
    "# 4.2　避免缩进错误\n",
    "# 4.2.1　忘记缩进\n",
    "# 4.2.2　忘记缩进额外的代码行\n",
    "# 4.2.3　不必要的缩进\n",
    "# 4.2.4　循环后不必要的缩进\n",
    "# 4.2.5　遗漏了冒号"
   ]
  },
  {
   "cell_type": "code",
   "execution_count": 25,
   "id": "934d44dc",
   "metadata": {},
   "outputs": [
    {
     "name": "stdout",
     "output_type": "stream",
     "text": [
      "4.3.1-函数range()\n",
      "\n",
      "range(0,5): 0 - 4\n",
      "0\n",
      "1\n",
      "2\n",
      "3\n",
      "4\n"
     ]
    }
   ],
   "source": [
    "# 4.3　创建数值列表\n",
    "\n",
    "# 4.3.1　使用函数range()\n",
    "print(\"4.3.1-函数range()\")\n",
    "\n",
    "print(\"\\nrange(0,5): 0 - 4\")\n",
    "\n",
    "for value in range(0,5):\n",
    "    print(value)"
   ]
  },
  {
   "cell_type": "code",
   "execution_count": 45,
   "id": "120aa116",
   "metadata": {},
   "outputs": [
    {
     "data": {
      "text/plain": [
       "[0, 1, 2, 3, 4]"
      ]
     },
     "execution_count": 45,
     "metadata": {},
     "output_type": "execute_result"
    }
   ],
   "source": [
    "a = list(range(0, 5))\n",
    "a"
   ]
  },
  {
   "cell_type": "code",
   "execution_count": 46,
   "id": "7daa1500",
   "metadata": {},
   "outputs": [
    {
     "data": {
      "text/plain": [
       "[]"
      ]
     },
     "execution_count": 46,
     "metadata": {},
     "output_type": "execute_result"
    }
   ],
   "source": [
    "b = []\n",
    "b"
   ]
  },
  {
   "cell_type": "code",
   "execution_count": 49,
   "id": "361a6f8a",
   "metadata": {},
   "outputs": [
    {
     "name": "stdout",
     "output_type": "stream",
     "text": [
      "\n",
      "range(6): 0 - 5\n",
      "0\n",
      "1\n",
      "2\n",
      "3\n",
      "4\n",
      "5\n"
     ]
    }
   ],
   "source": [
    "# 上述代码好像应该打印数1～5，但实际上不会打印5,python的计数起点是0，所以0-4一共5个数\n",
    "print(\"\\nrange(6): 0 - 5\")\n",
    "for value in range(6):\n",
    "    print(value)"
   ]
  },
  {
   "cell_type": "code",
   "execution_count": 27,
   "id": "85703786",
   "metadata": {},
   "outputs": [
    {
     "name": "stdout",
     "output_type": "stream",
     "text": [
      "\n",
      "4.3.2-创建数字列表：函数list() + 函数range()-作为参数\n",
      "[1, 2, 3, 4, 5]\n"
     ]
    }
   ],
   "source": [
    "# 4.3.2　使用range() 创建数字列表\n",
    "print(\"\\n4.3.2-创建数字列表：函数list() + 函数range()-作为参数\")\n",
    "numbers = list(range(1,6))\n",
    "print(numbers)"
   ]
  },
  {
   "cell_type": "code",
   "execution_count": 28,
   "id": "41022eea",
   "metadata": {},
   "outputs": [
    {
     "name": "stdout",
     "output_type": "stream",
     "text": [
      "\n",
      "1. 函数range()指定步长-第三个参数\n"
     ]
    }
   ],
   "source": [
    "# 使用函数range() 时，还可指定步长-第三个参数\n",
    "print(\"\\n1. 函数range()指定步长-第三个参数\")"
   ]
  },
  {
   "cell_type": "code",
   "execution_count": 50,
   "id": "a7091ec9",
   "metadata": {},
   "outputs": [
    {
     "name": "stdout",
     "output_type": "stream",
     "text": [
      "[2, 6, 10, 14, 18, 22, 26, 30, 34, 38, 42, 46, 50, 54, 58, 62, 66, 70, 74, 78, 82, 86, 90, 94, 98]\n"
     ]
    }
   ],
   "source": [
    "even_numbers = list(range(2,101,4))\n",
    "print(even_numbers)"
   ]
  },
  {
   "cell_type": "code",
   "execution_count": 52,
   "id": "5b02b2d0",
   "metadata": {},
   "outputs": [
    {
     "name": "stdout",
     "output_type": "stream",
     "text": [
      "\n",
      "2. 使用函数range() 几乎能够创建任何需要的数集: 数集1～10整数的平方\n",
      "2.1 使用临时变量，如square\n",
      "[1, 8, 27, 64, 125, 216, 343, 512, 729, 1000]\n"
     ]
    }
   ],
   "source": [
    "# 使用函数range() 几乎能够创建任何需要的数集\n",
    "print(\"\\n2. 使用函数range() 几乎能够创建任何需要的数集: 数集1～10整数的平方\")\n",
    "print(\"2.1 使用临时变量，如square\")\n",
    "squares01 = []\n",
    "for value in range(1, 11):\n",
    "    square = value ** 3\n",
    "    squares01.append(square)\n",
    "print(squares01)"
   ]
  },
  {
   "cell_type": "code",
   "execution_count": 53,
   "id": "4d374f80",
   "metadata": {},
   "outputs": [
    {
     "name": "stdout",
     "output_type": "stream",
     "text": [
      "\n",
      "2.2 不使用临时变量，直接在方法append()中使用数值计算\n",
      "[1, 4, 9, 16, 25, 36, 49, 64, 81, 100]\n"
     ]
    }
   ],
   "source": [
    "print(\"\\n2.2 不使用临时变量，直接在方法append()中使用数值计算\")\n",
    "squares02 = []\n",
    "for value in range(1, 11):\n",
    "    squares02.append(value ** 2)\n",
    "print(squares02)"
   ]
  },
  {
   "cell_type": "code",
   "execution_count": 54,
   "id": "3e122297",
   "metadata": {},
   "outputs": [
    {
     "name": "stdout",
     "output_type": "stream",
     "text": [
      "\n",
      "4.3.3-简单的统计计算\n",
      "0\n",
      "9\n",
      "45\n"
     ]
    }
   ],
   "source": [
    "# 4.3.3　对数字列表执行简单的统计计算\n",
    "print(\"\\n4.3.3-简单的统计计算\")\n",
    "data = [1, 2, 3, 4, 5, 6, 7, 8, 9, 0]\n",
    "print(min(data))\n",
    "print(max(data))\n",
    "print(sum(data))"
   ]
  },
  {
   "cell_type": "code",
   "execution_count": 33,
   "id": "39df3757",
   "metadata": {},
   "outputs": [
    {
     "name": "stdout",
     "output_type": "stream",
     "text": [
      "\n",
      "4.3.4-列表解析：列表名 + for()循环 + range()函数\n",
      "[1, 4, 9, 16, 25, 36, 49, 64, 81, 100]\n"
     ]
    }
   ],
   "source": [
    "# 4.3.4　列表解析\n",
    "print(\"\\n4.3.4-列表解析：列表名 + for()循环 + range()函数\")\n",
    "squares = [value**2 for value in range(1, 11)]\n",
    "print(squares)"
   ]
  },
  {
   "cell_type": "code",
   "execution_count": 34,
   "id": "ceb61022",
   "metadata": {},
   "outputs": [
    {
     "name": "stdout",
     "output_type": "stream",
     "text": [
      "\n",
      "练习4-9：立方解析\n",
      "[1, 8, 27, 64, 125, 216, 343, 512, 729, 1000]\n"
     ]
    },
    {
     "data": {
      "text/plain": [
       "0"
      ]
     },
     "execution_count": 34,
     "metadata": {},
     "output_type": "execute_result"
    }
   ],
   "source": [
    "# 练习4-9：立方解析\n",
    "print(\"\\n练习4-9：立方解析\")\n",
    "cubes = [value**3 for value in range(1,11)]\n",
    "print(cubes)\n",
    "\n",
    "min(data)\n",
    "#程序最后一行的运行结果会在输出里自动显示无论是否有print()"
   ]
  },
  {
   "cell_type": "code",
   "execution_count": 35,
   "id": "7234a846",
   "metadata": {},
   "outputs": [
    {
     "data": {
      "text/plain": [
       "0"
      ]
     },
     "execution_count": 35,
     "metadata": {},
     "output_type": "execute_result"
    }
   ],
   "source": [
    "data = [1, 2, 3, 4, 5, 6, 7, 8, 9, 0]\n",
    "min(data)"
   ]
  },
  {
   "cell_type": "code",
   "execution_count": 56,
   "id": "cfb7febf",
   "metadata": {},
   "outputs": [
    {
     "name": "stdout",
     "output_type": "stream",
     "text": [
      "\n",
      "4.4.1-切片(内置函数slice)\n",
      "['赵', 'qian', 'sun', 'li', 'zhou', 'wu', 'zheng', 'wang', 'fu']\n",
      "['赵', 'qian', 'sun', 'li']\n",
      "['zhou', 'wu', 'zheng', 'wang']\n",
      "['赵', 'qian']\n",
      "['li', 'zhou', 'wu', 'zheng', 'wang', 'fu']\n",
      "['赵', 'sun', 'zhou', 'zheng']\n"
     ]
    }
   ],
   "source": [
    "# 4.4　使用列表的一部分\n",
    "# 4.4.1　切片\n",
    "print(\"\\n4.4.1-切片(内置函数slice)\")\n",
    "\n",
    "names = ['赵', 'qian', 'sun', 'li', 'zhou', 'wu', 'zheng', 'wang', 'fu']\n",
    "print(names)\n",
    "print(names[0:4])\n",
    "print(names[-5:-1])\n",
    "print(names[:2])\n",
    "print(names[3:])\n",
    "print(names[0:7:2])  #值-2:可在表示切片的方括号内指定第三个值。这个值告诉Python在指定范围内每隔多少元素提取一个。"
   ]
  },
  {
   "cell_type": "code",
   "execution_count": 37,
   "id": "2f946235",
   "metadata": {},
   "outputs": [
    {
     "name": "stdout",
     "output_type": "stream",
     "text": [
      "\n",
      "4.4.2-遍历切片\n",
      "['zhao', 'qian', 'sun', 'li', 'zhou', 'wu', 'zheng', 'wang', 'fu']\n",
      "Here are the last three names in the list:\n",
      "\tZHENG\n",
      "\tWANG\n",
      "\tFU\n"
     ]
    }
   ],
   "source": [
    "# 4.4.2　遍历切片\n",
    "print(\"\\n4.4.2-遍历切片\")\n",
    "names = ['zhao', 'qian', 'sun', 'li', 'zhou', 'wu', 'zheng', 'wang', 'fu']\n",
    "print(names)\n",
    "print(\"Here are the last three names in the list:\")\n",
    "for name in names[-3:]:\n",
    "    print(f\"\\t{name.upper()}\")"
   ]
  },
  {
   "cell_type": "code",
   "execution_count": 38,
   "id": "647c5ee9",
   "metadata": {},
   "outputs": [
    {
     "name": "stdout",
     "output_type": "stream",
     "text": [
      "\n",
      "4.4.3-复制列表: [:]\n",
      "['rot', 'orange', 'yellow', 'green']\n",
      "['rot', 'orange', 'yellow', 'blue']\n"
     ]
    }
   ],
   "source": [
    "# 4.4.3　复制列表\n",
    "print(\"\\n4.4.3-复制列表: [:]\")\n",
    "my_color = ['rot', 'orange', 'yellow']\n",
    "her_color = my_color [:]\n",
    "\n",
    "my_color.append('green')\n",
    "her_color.append('blue')\n",
    "\n",
    "print(my_color)\n",
    "print(her_color)"
   ]
  },
  {
   "cell_type": "code",
   "execution_count": 40,
   "id": "0c986f05",
   "metadata": {},
   "outputs": [
    {
     "name": "stdout",
     "output_type": "stream",
     "text": [
      "['zheng', 'wang', 'fu']\n",
      "['zheng', 'wu', 'zhou', 'li', 'sun', 'qian']\n",
      "['zheng', 'zhou', 'sun']\n",
      "['li', 'zhou', 'wu', 'zheng', 'wang', 'fu']\n"
     ]
    }
   ],
   "source": [
    "names = ['zhao', 'qian', 'sun', 'li', 'zhou', 'wu', 'zheng', 'wang', 'fu']\n",
    "print(names[-3:])\n",
    "print(names[-3:0:-1])\n",
    "print(names[-3:0:-2])\n",
    "print(names[3:])"
   ]
  },
  {
   "cell_type": "code",
   "execution_count": 57,
   "id": "7402a4b2",
   "metadata": {},
   "outputs": [
    {
     "name": "stdout",
     "output_type": "stream",
     "text": [
      "\n",
      "4.5.1-定义元组: 不可变的列表被称为元组, 使用圆括号而非中括号来标识。\n",
      "严格地说，元组是由逗号标识的,圆括号只是让元组看起来更整洁、更清晰。\n",
      "My car is:\n",
      "car_1\n",
      "car_2\n"
     ]
    }
   ],
   "source": [
    "# 4.5　元组\n",
    "# 4.5.1　定义元组\n",
    "print(\"\\n4.5.1-定义元组: 不可变的列表被称为元组, 使用圆括号而非中括号来标识。\\n严格地说，元组是由逗号标识的,圆括号只是让元组看起来更整洁、更清晰。\")\n",
    "\n",
    "print(\"My car is:\")\n",
    "my_car = ('car_1', 'car_2')\n",
    "print(my_car[0])\n",
    "print(my_car[1])"
   ]
  },
  {
   "cell_type": "code",
   "execution_count": 58,
   "id": "23b624a8",
   "metadata": {},
   "outputs": [
    {
     "ename": "TypeError",
     "evalue": "'tuple' object does not support item assignment",
     "output_type": "error",
     "traceback": [
      "\u001b[1;31m---------------------------------------------------------------------------\u001b[0m",
      "\u001b[1;31mTypeError\u001b[0m                                 Traceback (most recent call last)",
      "Cell \u001b[1;32mIn[58], line 1\u001b[0m\n\u001b[1;32m----> 1\u001b[0m \u001b[43mmy_car\u001b[49m\u001b[43m[\u001b[49m\u001b[38;5;241;43m0\u001b[39;49m\u001b[43m]\u001b[49m \u001b[38;5;241m=\u001b[39m \u001b[38;5;124m'\u001b[39m\u001b[38;5;124mcar_0\u001b[39m\u001b[38;5;124m'\u001b[39m\n",
      "\u001b[1;31mTypeError\u001b[0m: 'tuple' object does not support item assignment"
     ]
    }
   ],
   "source": [
    "my_car[0] = 'car_0'"
   ]
  },
  {
   "cell_type": "code",
   "execution_count": null,
   "id": "1d9f3458",
   "metadata": {},
   "outputs": [],
   "source": [
    "# 4.5.2　遍历元组中的所有值: for()循环\n",
    "print(\"\\n4.5.2　遍历元组中的所有值: for()循环\")\n",
    "my_car = ('car_1', 'car_2')\n",
    "for car in my_car:\n",
    "    print(car)"
   ]
  },
  {
   "cell_type": "code",
   "execution_count": null,
   "id": "3b795a69",
   "metadata": {},
   "outputs": [],
   "source": [
    "# 4.6　设置代码格式  ---> Autopep8(extension)\n",
    "# 4.6.1 (Python Enhancement Proposal，PEP）, PEP 8是最古老的PEP之一。\n",
    "# 4.6.2 PEP 8建议每级缩进都使用四个空, 你在编写代码时绝对应该使用制表符键，但一定要对编辑器进行设置，使其在文档中插入空格而不是制表符。\n",
    "# 4.6.3 行长: 每行不超过80字符, 注释的行长不应超过72字符, 编辑器中设置一个视觉标志,\n",
    "# 4.6.4 空行: 要将程序的不同部分分开，可使用空行。"
   ]
  }
 ],
 "metadata": {
  "kernelspec": {
   "display_name": "Python 3 (ipykernel)",
   "language": "python",
   "name": "python3"
  },
  "language_info": {
   "codemirror_mode": {
    "name": "ipython",
    "version": 3
   },
   "file_extension": ".py",
   "mimetype": "text/x-python",
   "name": "python",
   "nbconvert_exporter": "python",
   "pygments_lexer": "ipython3",
   "version": "3.9.7"
  },
  "toc": {
   "base_numbering": 1,
   "nav_menu": {},
   "number_sections": true,
   "sideBar": true,
   "skip_h1_title": false,
   "title_cell": "Table of Contents",
   "title_sidebar": "Contents",
   "toc_cell": false,
   "toc_position": {
    "height": "calc(100% - 180px)",
    "left": "10px",
    "top": "150px",
    "width": "256px"
   },
   "toc_section_display": true,
   "toc_window_display": true
  },
  "varInspector": {
   "cols": {
    "lenName": 16,
    "lenType": 16,
    "lenVar": 40
   },
   "kernels_config": {
    "python": {
     "delete_cmd_postfix": "",
     "delete_cmd_prefix": "del ",
     "library": "var_list.py",
     "varRefreshCmd": "print(var_dic_list())"
    },
    "r": {
     "delete_cmd_postfix": ") ",
     "delete_cmd_prefix": "rm(",
     "library": "var_list.r",
     "varRefreshCmd": "cat(var_dic_list()) "
    }
   },
   "position": {
    "height": "429.51px",
    "left": "910px",
    "right": "20px",
    "top": "120px",
    "width": "350px"
   },
   "types_to_exclude": [
    "module",
    "function",
    "builtin_function_or_method",
    "instance",
    "_Feature"
   ],
   "window_display": false
  }
 },
 "nbformat": 4,
 "nbformat_minor": 5
}
