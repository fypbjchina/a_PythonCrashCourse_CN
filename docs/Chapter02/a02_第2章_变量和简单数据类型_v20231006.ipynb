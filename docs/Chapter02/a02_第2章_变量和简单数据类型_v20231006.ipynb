{
 "cells": [
  {
   "cell_type": "markdown",
   "id": "9416ed5c",
   "metadata": {},
   "source": [
    "# 第 2 章　变量和简单数据类型 / 20230328 <a class=\"tocSkip\">"
   ]
  },
  {
   "cell_type": "code",
   "execution_count": 37,
   "id": "e7b9812e",
   "metadata": {
    "scrolled": true
   },
   "outputs": [
    {
     "name": "stdout",
     "output_type": "stream",
     "text": [
      "Hello Jupyter Notebook! @ 20230315\n"
     ]
    }
   ],
   "source": [
    "print (\"Hello Jupyter Notebook! @ 20230315\")"
   ]
  },
  {
   "cell_type": "markdown",
   "id": "776cffba",
   "metadata": {},
   "source": [
    "## 2.2 变量 <a class=\"tocSkip\">"
   ]
  },
  {
   "cell_type": "raw",
   "id": "dcb0c35d",
   "metadata": {},
   "source": [
    "2.2.1 变量的命名和使用\n",
    "1. 变量名只能包含字母、数字和下划线。变量名能以字母或下划线打头，但不能以数字打头\n",
    "2. 变量名不能包含空格，但能使用下划线来分隔其中的单词\n",
    "3. 不要将Python关键字和函数名用作变量名\n",
    "4. 变量名应既简短又具有描述性\n",
    "5. 慎用小写字母l 和大写字母O"
   ]
  },
  {
   "cell_type": "code",
   "execution_count": 16,
   "id": "e3e6da2c",
   "metadata": {},
   "outputs": [
    {
     "data": {
      "text/plain": [
       "(True, False)"
      ]
     },
     "execution_count": 16,
     "metadata": {},
     "output_type": "execute_result"
    }
   ],
   "source": [
    "# 赋值(=) 和 等于(==) 的区别\n",
    "\n",
    "x = 5\n",
    "y = 10\n",
    "\n",
    "# 使用等于操作符进行 逻辑比较\n",
    "result_1 = (x == 5)  # result_1 的值为 True，因为 x 的值等于 5\n",
    "result_2 = (y == 5)  # result_2 的值为 False，因为 y 的值不等于 5\n",
    "\n",
    "result_1, result_2"
   ]
  },
  {
   "cell_type": "code",
   "execution_count": 1,
   "id": "338f9be8",
   "metadata": {},
   "outputs": [
    {
     "name": "stdout",
     "output_type": "stream",
     "text": [
      "Hello Python World!\n",
      "Hello Python Crash Course!\n"
     ]
    }
   ],
   "source": [
    "message_1 = \"Hello Python World!\"\n",
    "print (message_1)\n",
    "\n",
    "message_2 = \"Hello Python Crash Course!\"\n",
    "print (message_2)"
   ]
  },
  {
   "cell_type": "code",
   "execution_count": 2,
   "id": "20bbae39",
   "metadata": {},
   "outputs": [],
   "source": [
    "message_1 = 2"
   ]
  },
  {
   "cell_type": "code",
   "execution_count": 3,
   "id": "b68b1a5a",
   "metadata": {},
   "outputs": [
    {
     "name": "stdout",
     "output_type": "stream",
     "text": [
      "2\n"
     ]
    },
    {
     "ename": "NameError",
     "evalue": "name 'mesage_2' is not defined",
     "output_type": "error",
     "traceback": [
      "\u001b[1;31m---------------------------------------------------------------------------\u001b[0m",
      "\u001b[1;31mNameError\u001b[0m                                 Traceback (most recent call last)",
      "\u001b[1;32m~\\AppData\\Local\\Temp/ipykernel_4008/3273710894.py\u001b[0m in \u001b[0;36m<module>\u001b[1;34m\u001b[0m\n\u001b[0;32m      2\u001b[0m \u001b[1;33m\u001b[0m\u001b[0m\n\u001b[0;32m      3\u001b[0m \u001b[0mprint\u001b[0m\u001b[1;33m(\u001b[0m\u001b[0mmessage_1\u001b[0m\u001b[1;33m)\u001b[0m\u001b[1;33m\u001b[0m\u001b[1;33m\u001b[0m\u001b[0m\n\u001b[1;32m----> 4\u001b[1;33m \u001b[0mprint\u001b[0m\u001b[1;33m(\u001b[0m\u001b[0mmesage_2\u001b[0m\u001b[1;33m)\u001b[0m\u001b[1;33m\u001b[0m\u001b[1;33m\u001b[0m\u001b[0m\n\u001b[0m",
      "\u001b[1;31mNameError\u001b[0m: name 'mesage_2' is not defined"
     ]
    }
   ],
   "source": [
    "# 2.2.2　使用变量时避免命名错误\n",
    "# Jupter Notebook中注意单元格运行顺序\n",
    "\n",
    "print(message_1)\n",
    "print(mesage_2)"
   ]
  },
  {
   "cell_type": "raw",
   "id": "536eec15",
   "metadata": {},
   "source": [
    "2.2.3　变量是标签\n",
    "1. 变量常被描述为可用于存储值的盒子\n",
    "2. 变量是可以赋给值的标签，也可以说变量指向特定的值"
   ]
  },
  {
   "cell_type": "markdown",
   "id": "0c643903",
   "metadata": {},
   "source": [
    "## 2.3 字符串 <a class=\"tocSkip\">"
   ]
  },
  {
   "cell_type": "raw",
   "id": "1aabcaeb",
   "metadata": {},
   "source": [
    "字符串 就是一系列字符。在Python中，用引号括起的都是字符串，其中的引号可以是单引号，也可以是双引号。"
   ]
  },
  {
   "cell_type": "code",
   "execution_count": 4,
   "id": "bdfe12f7",
   "metadata": {},
   "outputs": [
    {
     "name": "stdout",
     "output_type": "stream",
     "text": [
      "I told my friend, \"Python is my favorite language!\"\n",
      "The language 'Python' is named after Monty Python, not the snake.\n",
      "One of Python's strengths is its diverse and supportive community.\n"
     ]
    }
   ],
   "source": [
    "print ('I told my friend, \"Python is my favorite language!\"')\n",
    "print (\"The language 'Python' is named after Monty Python, not the snake.\")\n",
    "print (\"One of Python's strengths is its diverse and supportive community.\")"
   ]
  },
  {
   "cell_type": "raw",
   "id": "463736a4",
   "metadata": {},
   "source": [
    "2.3.1　使用方法修改字符串的大小写 \n",
    "在name.title() 中，name 后面的句点（. ）让Python对变量name 执行方法title() 指定的操作。\n",
    "每个方法后面都跟着一对圆括号，这是因为方法通常需要额外的信息来完成其工作。\n",
    "这种信息是在圆括号内提供的。函数title() 不需要额外的信息，因此它后面的圆括号是空的。\n",
    "存储数据时，方法lower() 很有用。"
   ]
  },
  {
   "cell_type": "code",
   "execution_count": 41,
   "id": "65ac0f4c",
   "metadata": {},
   "outputs": [
    {
     "name": "stdout",
     "output_type": "stream",
     "text": [
      "Leben In Deutschland\n",
      "LEBEN IN DEUTSCHLAND\n",
      "leben in deutschland\n",
      "<built-in method lower of str object at 0x000001D5EFC91440>\n"
     ]
    }
   ],
   "source": [
    "# a02_3_1.py\n",
    "# print(), title(), upper(), lower()\n",
    "\n",
    "name = \"leben IN deutschland\"\n",
    "print (name.title())\n",
    "print (name.upper())\n",
    "print (name.lower())\n",
    "print (name.lower)"
   ]
  },
  {
   "cell_type": "code",
   "execution_count": 7,
   "id": "d2ee7ef2",
   "metadata": {},
   "outputs": [
    {
     "name": "stdout",
     "output_type": "stream",
     "text": [
      "Leben In Deutschland\n",
      "LEBEN IN DEUTSCHLAND\n",
      "leben in deutschland\n",
      "<built-in method lower of str object at 0x000001D5D08A53A0>\n"
     ]
    }
   ],
   "source": [
    "# 魔法命令，运行外部代码\n",
    "\n",
    "%run a02_3_1.py"
   ]
  },
  {
   "cell_type": "raw",
   "id": "0dbd4a4c",
   "metadata": {},
   "source": [
    "2.3.2　在字符串中使用变量 @ 20230328\n",
    "要在字符串中插入变量的值，可在前引号前加上字母f，再将要插入的变量放在花括号内。\n",
    "这样，当Python显示字符串时，将把每个变量都替换为其值。\n",
    "\n",
    "f字符串：f是format（设置格式）的简写，因为Python通过把花括号{}内的变量替换为其值来设置字符串的格式。\n",
    "r字符串: r是raw strings（原始字符串）的简写，原始字符串与普通字符串在处理反斜杠字符（\\）时有所不同\n",
    "b字符串: b是byte strings（字节字符串）的简写，与u字符串主要区别在于字节编码方式不同，二进制数据，Python 2.x中默认字符类型\n",
    "u字符串: u是Unicode strings（普通字符串）的简写，Unicode编码，Python 3.x中默认字符类型"
   ]
  },
  {
   "cell_type": "code",
   "execution_count": 8,
   "id": "d69fda37",
   "metadata": {},
   "outputs": [
    {
     "name": "stdout",
     "output_type": "stream",
     "text": [
      "Beginner PYTHON\n",
      "Beginner@Python\n",
      "Welcome, Beginner@Python!\n",
      "Welcome, {full_name.title()}!\n",
      "b'Welcome, {full_name.title()}!'\n"
     ]
    }
   ],
   "source": [
    "# a02_3_2.py\n",
    "# f(), r(), title(), upper()...\n",
    "\n",
    "first_name = \"beginner\"\n",
    "last_name = \"python\"\n",
    "full_name = f\"{first_name.title()} {last_name.upper()}\"\n",
    "\n",
    "print (full_name)\n",
    "\n",
    "full_name = f\"{first_name}@{last_name}\" # 推荐使用双引号，单引号可能参数解析错误\n",
    "message_f = f\"Welcome, {full_name.title()}!\"\n",
    "message_r = r\"Welcome, {full_name.title()}!\"\n",
    "message_b = b\"Welcome, {full_name.title()}!\"\n",
    "\n",
    "print(full_name.title())\n",
    "print(message_f)\n",
    "print(message_r)\n",
    "print(message_b)"
   ]
  },
  {
   "cell_type": "raw",
   "id": "e2fa8c75",
   "metadata": {},
   "source": [
    "2.3.3　使用制表符或换行符来添加空白\n",
    "要在字符串中添加制表符，可使用字符组合\\t. 注意：Tab=4个空格\n",
    "要在字符串中添加换行符，可使用字符组合\\n"
   ]
  },
  {
   "cell_type": "code",
   "execution_count": 9,
   "id": "899a8c3f",
   "metadata": {},
   "outputs": [
    {
     "name": "stdout",
     "output_type": "stream",
     "text": [
      "Beginner\t@\tPython\n",
      "\tBeginner@Python\n",
      "Beginner:\n",
      " \tPython \n",
      " \tJava/JavaScript \n",
      " \tC/C++\n",
      "You\n",
      " \tAre \n",
      " \t\tWelcome\t!\n"
     ]
    }
   ],
   "source": [
    "# a02_3_3.py\n",
    "# \\t, \\n\n",
    "\n",
    "print(\"Beginner\\t@\\tPython\")\n",
    "\n",
    "print(\"\\tBeginner@Python\")\n",
    "\n",
    "print(\"Beginner:\\n \\tPython \\n \\tJava/JavaScript \\n \\tC/C++\")\n",
    "\n",
    "print(\"You\\n \\tAre \\n \\t\\tWelcome\\t!\")"
   ]
  },
  {
   "cell_type": "raw",
   "id": "c137118c",
   "metadata": {},
   "source": [
    "2.3.4　删除空白\n",
    "Python能够找出字符串开头和末尾多余的空白。可使用方法 rstrip(), lstrip() 和strip()\n",
    "要永久删除这个字符串中的空白，必须将删除操作的结果关联到变量"
   ]
  },
  {
   "cell_type": "code",
   "execution_count": 11,
   "id": "516bef17",
   "metadata": {},
   "outputs": [
    {
     "name": "stdout",
     "output_type": "stream",
     "text": [
      "  --Beginner--    --Beginner--    --Beginner--  \n",
      "--Beginner----Beginner--  --Beginner--  \n",
      "  --Beginner--  --Beginner--  --Beginner--  \n",
      "--Beginner--  --Beginner--    --Beginner--  \n"
     ]
    }
   ],
   "source": [
    "# a02_3_4.py\n",
    "# 方法strip(), rstrip(), lstrip()删除空白\n",
    "\n",
    "text = '  --Beginner--  '\n",
    "\n",
    "print(f\"{text}{text}{text}\")\n",
    "\n",
    "print(f\"{text.strip()}{text.strip()}{text}\") # strip() 删除 两边 的空白\n",
    "print(f\"{text.rstrip()}{text.rstrip()}{text}\") # rstrip() 删除 后面 的空白\n",
    "print(f\"{text.lstrip()}{text.lstrip()}{text}\") # lstrip()删除 前面 的边的空白"
   ]
  },
  {
   "cell_type": "raw",
   "id": "a068fc6f",
   "metadata": {},
   "source": [
    "动手试一试\n",
    "练习2-5：名言1 　找一句你钦佩的名人说的名言，将其姓名和名言打印出来。"
   ]
  },
  {
   "cell_type": "code",
   "execution_count": 12,
   "id": "d7746113",
   "metadata": {},
   "outputs": [
    {
     "name": "stdout",
     "output_type": "stream",
     "text": [
      "not you, who?\n",
      "not now, when?\n",
      "not try, how?\n",
      "\t------>Jack Ma\n"
     ]
    }
   ],
   "source": [
    "# Excese-2.5: R1\n",
    "\n",
    "print(\"not you, who?\")\n",
    "print(\"not now, when?\")\n",
    "print(\"not try, how?\")\n",
    "print(\"\\t------>Jack Ma\")"
   ]
  },
  {
   "cell_type": "code",
   "execution_count": 13,
   "id": "6e9fdade",
   "metadata": {},
   "outputs": [
    {
     "name": "stdout",
     "output_type": "stream",
     "text": [
      " not you, who?\n",
      " not now, when?\n",
      " not try, how?\n",
      " \t------>Jack Ma\n"
     ]
    }
   ],
   "source": [
    "# Excese-2.5: R2\n",
    "\n",
    "print(\" not you, who?\\n not now, when?\\n not try, how?\\n \\t------>Jack Ma\")"
   ]
  },
  {
   "cell_type": "raw",
   "id": "fd77e5d3",
   "metadata": {},
   "source": [
    "练习2-6：名言2 　用变量famous_person 表示名人的姓名，再创建要显示的消息并将其赋给变量message，然后打印这条消息。"
   ]
  },
  {
   "cell_type": "code",
   "execution_count": 14,
   "id": "304ad239",
   "metadata": {},
   "outputs": [
    {
     "name": "stdout",
     "output_type": "stream",
     "text": [
      "\tNOT YOU, WHO?\n",
      "\tNOT NOW, WHEN?\n",
      "\tNOT TRY, HOW?\n",
      "\t\t------>JACK MA\n"
     ]
    }
   ],
   "source": [
    "# Excese-2.6: R3\n",
    "\n",
    "who = \"not you, who?\"\n",
    "when = \"not now, when?\"\n",
    "how = \"not try, how?\"\n",
    "name = \"jack ma\"\n",
    "\n",
    "message_who = f\"\\t{who.upper()}\"\n",
    "message_when = f\"\\t{when.upper()}\"\n",
    "message_how = f\"\\t{how.upper()}\"\n",
    "\n",
    "message_name = f\"\\t\\t------>{name.upper()}\"\n",
    "\n",
    "print(message_who)\n",
    "print(message_when)\n",
    "print(message_how)\n",
    "print(message_name) # 一起显示字符和变量，用f\"xxx{}\"字符串"
   ]
  },
  {
   "cell_type": "raw",
   "id": "44d164ee",
   "metadata": {},
   "source": [
    "练习2-7：剔除人名中的空白 　用变量表示一个人的名字，并在其开头和末尾都包含一些空白字符。\n",
    "务必至少使用字符组合\"\\t\" 和\"\\n\" 各一次。打印这个人名，显示其开头和末尾的空白。\n",
    "然后，分别使用剔除函数lstrip() 、rstrip() 和strip() 对人名进行处理，并将结果打印出来。"
   ]
  },
  {
   "cell_type": "markdown",
   "id": "302592bb",
   "metadata": {},
   "source": [
    "## 2.4 数 <a class=tocSkip>"
   ]
  },
  {
   "cell_type": "code",
   "execution_count": 32,
   "id": "d7fe30eb",
   "metadata": {},
   "outputs": [
    {
     "data": {
      "text/plain": [
       "5"
      ]
     },
     "execution_count": 32,
     "metadata": {},
     "output_type": "execute_result"
    }
   ],
   "source": [
    "# 2.4.1　整数: 在Python中，可对整数执行加（+ ）减（- ）乘（* ）除（/ ）运算。\n",
    "    \n",
    "y_1 = 2 + 3\n",
    "y_1"
   ]
  },
  {
   "cell_type": "code",
   "execution_count": 33,
   "id": "3651f2c6",
   "metadata": {},
   "outputs": [
    {
     "name": "stdout",
     "output_type": "stream",
     "text": [
      "22.0\n"
     ]
    }
   ],
   "source": [
    "y_2 = ( 2 + 3 ) + ( 2 * 3 ) + ( 3 / 2 ) + ( 3 ** 2 ) + ( 0.2 + 0.3 )\n",
    "print(y_2)"
   ]
  },
  {
   "cell_type": "code",
   "execution_count": 4,
   "id": "764b416c",
   "metadata": {},
   "outputs": [
    {
     "data": {
      "text/plain": [
       "2.0"
      ]
     },
     "execution_count": 4,
     "metadata": {},
     "output_type": "execute_result"
    }
   ],
   "source": [
    "# 2.4.2　浮点数: Python将所有带小数点的数称为浮点数\n",
    "# 无论是哪种运算，只要有操作数是浮点数，Python默认得到的总是浮点数\n",
    "\n",
    "4 / 2"
   ]
  },
  {
   "cell_type": "code",
   "execution_count": 8,
   "id": "9d36a271",
   "metadata": {},
   "outputs": [
    {
     "name": "stdout",
     "output_type": "stream",
     "text": [
      "14000000000\n"
     ]
    }
   ],
   "source": [
    "# 2.4.4 数中的下划线：很大的数使用下划线给数字分组\n",
    "\n",
    "value = 14_000_000_000\n",
    "print(value)"
   ]
  },
  {
   "cell_type": "code",
   "execution_count": 7,
   "id": "0d116823",
   "metadata": {},
   "outputs": [
    {
     "name": "stdout",
     "output_type": "stream",
     "text": [
      "0 1 2\n"
     ]
    }
   ],
   "source": [
    "# 2.4.5　同时给多个变量赋值\n",
    "\n",
    "x, y, z = 0, 1, 2\n",
    "print(x,y,z)"
   ]
  },
  {
   "cell_type": "code",
   "execution_count": 5,
   "id": "41f3f513",
   "metadata": {},
   "outputs": [],
   "source": [
    "# 2.4.6　常量\n",
    "# Python程序员会使用全大写来指出应将某个变量视为常量，其值应始终不变\n",
    "\n",
    "CONSTANT = 5000"
   ]
  },
  {
   "cell_type": "code",
   "execution_count": 6,
   "id": "0f4f86da",
   "metadata": {},
   "outputs": [
    {
     "data": {
      "text/plain": [
       "int"
      ]
     },
     "execution_count": 6,
     "metadata": {},
     "output_type": "execute_result"
    }
   ],
   "source": [
    "# 使用 type() 函数\n",
    "\n",
    "type(CONSTANT)"
   ]
  },
  {
   "cell_type": "code",
   "execution_count": 34,
   "id": "2940605f",
   "metadata": {},
   "outputs": [
    {
     "data": {
      "text/plain": [
       "float"
      ]
     },
     "execution_count": 34,
     "metadata": {},
     "output_type": "execute_result"
    }
   ],
   "source": [
    "type(y_2)"
   ]
  },
  {
   "cell_type": "code",
   "execution_count": 35,
   "id": "0c94ed8b",
   "metadata": {},
   "outputs": [
    {
     "data": {
      "text/plain": [
       "str"
      ]
     },
     "execution_count": 35,
     "metadata": {},
     "output_type": "execute_result"
    }
   ],
   "source": [
    "type(message_1)"
   ]
  },
  {
   "cell_type": "markdown",
   "id": "7ef8c655",
   "metadata": {},
   "source": [
    "## 2.5 注释 <a class=tocSkip>"
   ]
  },
  {
   "cell_type": "raw",
   "id": "94e7a176",
   "metadata": {},
   "source": [
    "1. 在Python中，注释用井号（ # ）标识\n",
    "2. 编写注释的主要目的是阐述代码要做什么，以及是如何做的\n",
    "3. 要成为专业程序员或与其他程序员合作，就必须编写有意义的注释\n",
    "4. 最好从现在开始就在程序中添加描述性注释。作为新手，最值得养成的习惯之一就是在代码中编写清晰、简洁的注释。"
   ]
  },
  {
   "cell_type": "markdown",
   "id": "2283920c",
   "metadata": {},
   "source": [
    "## 2.6 Python之禅 <a class=tocSkip>"
   ]
  },
  {
   "cell_type": "code",
   "execution_count": 20,
   "id": "ac467c70",
   "metadata": {},
   "outputs": [
    {
     "name": "stdout",
     "output_type": "stream",
     "text": [
      "The Zen of Python, by Tim Peters\n",
      "\n",
      "Beautiful is better than ugly.\n",
      "Explicit is better than implicit.\n",
      "Simple is better than complex.\n",
      "Complex is better than complicated.\n",
      "Flat is better than nested.\n",
      "Sparse is better than dense.\n",
      "Readability counts.\n",
      "Special cases aren't special enough to break the rules.\n",
      "Although practicality beats purity.\n",
      "Errors should never pass silently.\n",
      "Unless explicitly silenced.\n",
      "In the face of ambiguity, refuse the temptation to guess.\n",
      "There should be one-- and preferably only one --obvious way to do it.\n",
      "Although that way may not be obvious at first unless you're Dutch.\n",
      "Now is better than never.\n",
      "Although never is often better than *right* now.\n",
      "If the implementation is hard to explain, it's a bad idea.\n",
      "If the implementation is easy to explain, it may be a good idea.\n",
      "Namespaces are one honking great idea -- let's do more of those!\n"
     ]
    }
   ],
   "source": [
    "import this"
   ]
  },
  {
   "cell_type": "markdown",
   "id": "26668116",
   "metadata": {},
   "source": [
    "![this.py: Python之禅](a02_6.png)"
   ]
  },
  {
   "cell_type": "raw",
   "id": "de0c3173",
   "metadata": {},
   "source": [
    "1. 经验丰富的程序员倡导尽可能避繁就简\n",
    "2. Python程序员笃信代码可以编写得漂亮而优雅\n",
    "3. 如果有两个解决方案，一个简单、一个复杂，但都行之有效，就选择简单的解决方案吧\n",
    "4. 现实是复杂的，有时候可能没有简单的解决方案。在这种情况下，就选择最简单可行的解决方案\n",
    "5. 即便是复杂的代码，也要让它易于理解"
   ]
  }
 ],
 "metadata": {
  "kernelspec": {
   "display_name": "Python 3 (ipykernel)",
   "language": "python",
   "name": "python3"
  },
  "language_info": {
   "codemirror_mode": {
    "name": "ipython",
    "version": 3
   },
   "file_extension": ".py",
   "mimetype": "text/x-python",
   "name": "python",
   "nbconvert_exporter": "python",
   "pygments_lexer": "ipython3",
   "version": "3.9.7"
  },
  "toc": {
   "base_numbering": 1,
   "nav_menu": {},
   "number_sections": true,
   "sideBar": true,
   "skip_h1_title": false,
   "title_cell": "Table of Contents",
   "title_sidebar": "Contents",
   "toc_cell": false,
   "toc_position": {
    "height": "calc(100% - 180px)",
    "left": "10px",
    "top": "150px",
    "width": "165px"
   },
   "toc_section_display": true,
   "toc_window_display": true
  },
  "varInspector": {
   "cols": {
    "lenName": 16,
    "lenType": 16,
    "lenVar": 40
   },
   "kernels_config": {
    "python": {
     "delete_cmd_postfix": "",
     "delete_cmd_prefix": "del ",
     "library": "var_list.py",
     "varRefreshCmd": "print(var_dic_list())"
    },
    "r": {
     "delete_cmd_postfix": ") ",
     "delete_cmd_prefix": "rm(",
     "library": "var_list.r",
     "varRefreshCmd": "cat(var_dic_list()) "
    }
   },
   "position": {
    "height": "396.854px",
    "left": "910px",
    "right": "20px",
    "top": "120px",
    "width": "350px"
   },
   "types_to_exclude": [
    "module",
    "function",
    "builtin_function_or_method",
    "instance",
    "_Feature"
   ],
   "window_display": false
  }
 },
 "nbformat": 4,
 "nbformat_minor": 5
}
