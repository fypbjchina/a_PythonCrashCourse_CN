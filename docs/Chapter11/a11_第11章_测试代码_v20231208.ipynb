{
 "cells": [
  {
   "cell_type": "markdown",
   "id": "e27a4d82",
   "metadata": {},
   "source": [
    "# Python编程：从入门到实践（第2版）/ 20230323 <a class=\"tocSkip\">"
   ]
  },
  {
   "cell_type": "markdown",
   "id": "f8c90d1e",
   "metadata": {},
   "source": [
    "# 第 11 章　测试代码 / 20230618 <a class=tocSkip>"
   ]
  },
  {
   "cell_type": "raw",
   "id": "8ee5431c",
   "metadata": {},
   "source": [
    "程序员都会犯错，因此每个程序员都必须经常测试其代码，在用户发现问题前找出它们。\n",
    "使用Python模块unittest 中的工具来测试代码"
   ]
  },
  {
   "cell_type": "raw",
   "id": "1ffe1b8d",
   "metadata": {
    "notebookRunGroups": {
     "groupValue": ""
    }
   },
   "source": [
    "11.1 测试函数"
   ]
  },
  {
   "cell_type": "code",
   "execution_count": 1,
   "id": "a792e526",
   "metadata": {},
   "outputs": [],
   "source": [
    "# a11_1_0_f_name_function_fl.py\n",
    "# 函数get_formatted_name() 将名和姓合并成姓名\n",
    "\n",
    "def get_formatted_name(first, last):\n",
    "    \"\"\"生成整洁的姓名。\"\"\"\n",
    "    full_name = f\"{first} {last}\"\n",
    "    return full_name.title()"
   ]
  },
  {
   "cell_type": "code",
   "execution_count": 2,
   "id": "271aaf81",
   "metadata": {},
   "outputs": [
    {
     "name": "stdout",
     "output_type": "stream",
     "text": [
      "Enter 'q' at any time to quit.\n",
      "\n",
      "Please give me a first name: san\n",
      "Please give me a last name: zhang\n",
      "\tNeatly formatted name: San Zhang.\n",
      "\n",
      "Please give me a first name: q\n"
     ]
    }
   ],
   "source": [
    "# a11_1_0_names.py\n",
    "# 输入名和姓，确保调用的函数get_formatted_name()可以正常工作\n",
    "\n",
    "from a11_1_0_f_name_function_fl import get_formatted_name\n",
    "\n",
    "print(\"Enter 'q' at any time to quit.\")\n",
    "while True:\n",
    "    first = input(\"\\nPlease give me a first name: \")\n",
    "    if first == 'q':\n",
    "        break\n",
    "    last = input(\"Please give me a last name: \")\n",
    "    if last == 'q':\n",
    "        break\n",
    "    formatted_name = get_formatted_name(first, last)\n",
    "    print(f\"\\tNeatly formatted name: {formatted_name}.\")"
   ]
  },
  {
   "cell_type": "raw",
   "id": "df4238c4",
   "metadata": {},
   "source": [
    "11.1.1　单元测试和测试用例\n",
    "单元测试 用于核实函数的某个方面没有问题。\n",
    "测试用例 是一组单元测试，它们一道核实函数在各种情形下的为都符合要求。"
   ]
  },
  {
   "cell_type": "raw",
   "id": "d40fe20f",
   "metadata": {},
   "source": [
    "11.1.2　可通过的测试\n",
    "要为函数编写测试用例，可先导入模块unittest 和要测试的函数，\n",
    "再创建一个继承unittest.TestCase 的类，并编写一系列方法对函数行为的不同方面进行测试。"
   ]
  },
  {
   "cell_type": "code",
   "execution_count": 3,
   "id": "f4f110b6",
   "metadata": {},
   "outputs": [
    {
     "name": "stderr",
     "output_type": "stream",
     "text": [
      "E\n",
      "======================================================================\n",
      "ERROR: C:\\Users\\fuy3pk\\AppData\\Roaming\\jupyter\\runtime\\kernel-773ce5d0-2820-43cf-9083-2a0bb0857de5 (unittest.loader._FailedTest.C:\\Users\\fuy3pk\\AppData\\Roaming\\jupyter\\runtime\\kernel-773ce5d0-2820-43cf-9083-2a0bb0857de5)\n",
      "----------------------------------------------------------------------\n",
      "AttributeError: module '__main__' has no attribute 'C:\\Users\\fuy3pk\\AppData\\Roaming\\jupyter\\runtime\\kernel-773ce5d0-2820-43cf-9083-2a0bb0857de5'\n",
      "\n",
      "----------------------------------------------------------------------\n",
      "Ran 1 test in 0.001s\n",
      "\n",
      "FAILED (errors=1)\n"
     ]
    },
    {
     "ename": "SystemExit",
     "evalue": "True",
     "output_type": "error",
     "traceback": [
      "An exception has occurred, use %tb to see the full traceback.\n",
      "\u001b[1;31mSystemExit\u001b[0m\u001b[1;31m:\u001b[0m True\n"
     ]
    },
    {
     "name": "stderr",
     "output_type": "stream",
     "text": [
      "C:\\Users\\fuy3pk\\.conda\\envs\\fyp2023\\Lib\\site-packages\\IPython\\core\\interactiveshell.py:3534: UserWarning: To exit: use 'exit', 'quit', or Ctrl-D.\n",
      "  warn(\"To exit: use 'exit', 'quit', or Ctrl-D.\", stacklevel=1)\n"
     ]
    }
   ],
   "source": [
    "# a11_1_2_test_name_function_fl.py\n",
    "\n",
    "import unittest\n",
    "from a11_1_0_f_name_function_fl import get_formatted_name\n",
    "\n",
    "class NamesTestCase(unittest.TestCase):\n",
    "    \"\"\"测试a11_1_0_f_name_function_fl.py\"\"\"\n",
    "    \n",
    "    def test_first_last_name(self):\n",
    "        \"\"\"能够正确地处理像Zhang San这样的姓名吗？\"\"\"\n",
    "        test_name = get_formatted_name('san', 'zhang')\n",
    "        self.assertEqual(test_name, 'San Zhang')\n",
    "    \n",
    "if __name__ == '__main__':\n",
    "    unittest.main()\n",
    "    \n",
    "# __name__ 是一个特殊的内建变量，它表示当前模块的名字。\n",
    "# 当一个Python脚本被执行时，__name__ 的值被设置为'__main__'，表示这个脚本是主程序，而不是被其他模块导入的。"
   ]
  },
  {
   "cell_type": "code",
   "execution_count": 5,
   "id": "a3baacff",
   "metadata": {},
   "outputs": [
    {
     "ename": "SystemExit",
     "evalue": "True",
     "output_type": "error",
     "traceback": [
      "\u001b[1;31m---------------------------------------------------------------------------\u001b[0m",
      "\u001b[1;31mSystemExit\u001b[0m                                Traceback (most recent call last)",
      "Cell \u001b[1;32mIn[4], line 15\u001b[0m\n\u001b[0;32m     12\u001b[0m         \u001b[38;5;28mself\u001b[39m\u001b[38;5;241m.\u001b[39massertEqual(test_name, \u001b[38;5;124m'\u001b[39m\u001b[38;5;124mSan Zhang\u001b[39m\u001b[38;5;124m'\u001b[39m)\n\u001b[0;32m     14\u001b[0m \u001b[38;5;28;01mif\u001b[39;00m \u001b[38;5;18m__name__\u001b[39m \u001b[38;5;241m==\u001b[39m \u001b[38;5;124m'\u001b[39m\u001b[38;5;124m__main__\u001b[39m\u001b[38;5;124m'\u001b[39m:\n\u001b[1;32m---> 15\u001b[0m     unittest\u001b[38;5;241m.\u001b[39mmain()\n",
      "File \u001b[1;32m~\\.conda\\envs\\fyp2023\\Lib\\unittest\\main.py:102\u001b[0m, in \u001b[0;36mTestProgram.__init__\u001b[1;34m(self, module, defaultTest, argv, testRunner, testLoader, exit, verbosity, failfast, catchbreak, buffer, warnings, tb_locals)\u001b[0m\n\u001b[0;32m    100\u001b[0m \u001b[38;5;28mself\u001b[39m\u001b[38;5;241m.\u001b[39mprogName \u001b[38;5;241m=\u001b[39m os\u001b[38;5;241m.\u001b[39mpath\u001b[38;5;241m.\u001b[39mbasename(argv[\u001b[38;5;241m0\u001b[39m])\n\u001b[0;32m    101\u001b[0m \u001b[38;5;28mself\u001b[39m\u001b[38;5;241m.\u001b[39mparseArgs(argv)\n\u001b[1;32m--> 102\u001b[0m \u001b[38;5;28mself\u001b[39m\u001b[38;5;241m.\u001b[39mrunTests()\n",
      "File \u001b[1;32m~\\.conda\\envs\\fyp2023\\Lib\\unittest\\main.py:276\u001b[0m, in \u001b[0;36mTestProgram.runTests\u001b[1;34m(self)\u001b[0m\n\u001b[0;32m    274\u001b[0m \u001b[38;5;28mself\u001b[39m\u001b[38;5;241m.\u001b[39mresult \u001b[38;5;241m=\u001b[39m testRunner\u001b[38;5;241m.\u001b[39mrun(\u001b[38;5;28mself\u001b[39m\u001b[38;5;241m.\u001b[39mtest)\n\u001b[0;32m    275\u001b[0m \u001b[38;5;28;01mif\u001b[39;00m \u001b[38;5;28mself\u001b[39m\u001b[38;5;241m.\u001b[39mexit:\n\u001b[1;32m--> 276\u001b[0m     sys\u001b[38;5;241m.\u001b[39mexit(\u001b[38;5;129;01mnot\u001b[39;00m \u001b[38;5;28mself\u001b[39m\u001b[38;5;241m.\u001b[39mresult\u001b[38;5;241m.\u001b[39mwasSuccessful())\n",
      "\u001b[1;31mSystemExit\u001b[0m: True"
     ]
    }
   ],
   "source": [
    "%tb"
   ]
  },
  {
   "cell_type": "code",
   "execution_count": 4,
   "id": "db310ab5",
   "metadata": {},
   "outputs": [
    {
     "name": "stderr",
     "output_type": "stream",
     "text": [
      ".\n",
      "----------------------------------------------------------------------\n",
      "Ran 1 test in 0.001s\n",
      "\n",
      "OK\n"
     ]
    },
    {
     "ename": "SystemExit",
     "evalue": "False",
     "output_type": "error",
     "traceback": [
      "An exception has occurred, use %tb to see the full traceback.\n",
      "\u001b[1;31mSystemExit\u001b[0m\u001b[1;31m:\u001b[0m False\n"
     ]
    },
    {
     "name": "stderr",
     "output_type": "stream",
     "text": [
      "C:\\Users\\fuy3pk\\.conda\\envs\\fyp2023\\Lib\\site-packages\\IPython\\core\\interactiveshell.py:3534: UserWarning: To exit: use 'exit', 'quit', or Ctrl-D.\n",
      "  warn(\"To exit: use 'exit', 'quit', or Ctrl-D.\", stacklevel=1)\n"
     ]
    }
   ],
   "source": [
    "# a11_1_2_test_name_function_fl.py\n",
    "\n",
    "import unittest\n",
    "from a11_1_0_f_name_function_fl import get_formatted_name\n",
    "\n",
    "class NamesTestCase(unittest.TestCase):\n",
    "    \"\"\"测试a11_1_0_f_name_function_fl.py\"\"\"\n",
    "    \n",
    "    def test_first_last_name(self):\n",
    "        \"\"\"能够正确地处理像Zhang San这样的姓名吗？\"\"\"\n",
    "        test_name = get_formatted_name('san', 'zhang')\n",
    "        self.assertEqual(test_name, 'San Zhang')\n",
    "    \n",
    "if __name__ == '__main__':\n",
    "    unittest.main(argv=[''])"
   ]
  },
  {
   "cell_type": "code",
   "execution_count": 7,
   "id": "32ccd91a",
   "metadata": {},
   "outputs": [
    {
     "name": "stderr",
     "output_type": "stream",
     "text": [
      ".F\n",
      "======================================================================\n",
      "FAIL: test_first_last_name (__main__.YourTestCase.test_first_last_name)\n",
      "能够正确地处理像Zhang San这样的姓名吗？\n",
      "----------------------------------------------------------------------\n",
      "Traceback (most recent call last):\n",
      "  File \"C:\\Users\\fuy3pk\\AppData\\Local\\Temp\\ipykernel_10524\\184416634.py\", line 15, in test_first_last_name\n",
      "    self.assertEqual(test_name, 'san Zhang')\n",
      "AssertionError: 'San Zhang' != 'san Zhang'\n",
      "- San Zhang\n",
      "? ^\n",
      "+ san Zhang\n",
      "? ^\n",
      "\n",
      "\n",
      "----------------------------------------------------------------------\n",
      "Ran 2 tests in 0.003s\n",
      "\n",
      "FAILED (failures=1)\n"
     ]
    },
    {
     "name": "stdout",
     "output_type": "stream",
     "text": [
      "Tests failed with exit code True.\n"
     ]
    }
   ],
   "source": [
    "# a11_1_2_test_name_function_fl.py\n",
    "# 创建类NamesTestCase,继承unittest.TestCase\n",
    "# unittest 类最有用的功能之一：断言方法, 调用方法unittest.assertEqual()\n",
    "# 测试用例，def一个方法，可通过的测试情况\n",
    "\n",
    "import unittest\n",
    "from a11_1_0_f_name_function_fl import get_formatted_name\n",
    "\n",
    "class YourTestCase(unittest.TestCase):\n",
    "    \"\"\"测试a11_1_0_f_name_function_fl.py\"\"\"\n",
    "    \n",
    "    def test_first_last_name(self):\n",
    "        \"\"\"能够正确地处理像Zhang San这样的姓名吗？\"\"\"\n",
    "        test_name = get_formatted_name('san', 'zhang')\n",
    "        self.assertEqual(test_name, 'san Zhang')\n",
    "    \n",
    "try:\n",
    "    if __name__ == '__main__':\n",
    "        unittest.main(argv=[''])\n",
    "except SystemExit as se:\n",
    "    if se.code != 0:\n",
    "        print(f\"Tests failed with exit code {se.code}.\")"
   ]
  },
  {
   "cell_type": "raw",
   "id": "c716054d",
   "metadata": {},
   "source": [
    "11.1.3　未通过的测试"
   ]
  },
  {
   "cell_type": "code",
   "execution_count": 8,
   "id": "9ef5eae6",
   "metadata": {},
   "outputs": [
    {
     "name": "stderr",
     "output_type": "stream",
     "text": [
      "EF\n",
      "======================================================================\n",
      "ERROR: test_first_last_name (__main__.NamesTestCase.test_first_last_name)\n",
      "能够正确地处理像Zhang San这样的姓名吗？\n",
      "----------------------------------------------------------------------\n",
      "Traceback (most recent call last):\n",
      "  File \"C:\\Users\\fuy3pk\\AppData\\Local\\Temp\\ipykernel_10524\\2785146749.py\", line 11, in test_first_last_name\n",
      "    test_name = get_fml_name('san', 'zhang')\n",
      "                ^^^^^^^^^^^^^^^^^^^^^^^^^^^^\n",
      "TypeError: get_fml_name() missing 1 required positional argument: 'last'\n",
      "\n",
      "======================================================================\n",
      "FAIL: test_first_last_name (__main__.YourTestCase.test_first_last_name)\n",
      "能够正确地处理像Zhang San这样的姓名吗？\n",
      "----------------------------------------------------------------------\n",
      "Traceback (most recent call last):\n",
      "  File \"C:\\Users\\fuy3pk\\AppData\\Local\\Temp\\ipykernel_10524\\184416634.py\", line 15, in test_first_last_name\n",
      "    self.assertEqual(test_name, 'san Zhang')\n",
      "AssertionError: 'San Zhang' != 'san Zhang'\n",
      "- San Zhang\n",
      "? ^\n",
      "+ san Zhang\n",
      "? ^\n",
      "\n",
      "\n",
      "----------------------------------------------------------------------\n",
      "Ran 2 tests in 0.003s\n",
      "\n",
      "FAILED (failures=1, errors=1)\n"
     ]
    },
    {
     "name": "stdout",
     "output_type": "stream",
     "text": [
      "Tests failed with exit code True.\n"
     ]
    }
   ],
   "source": [
    "# a11_1_3_test_name_function_fml.py\n",
    "\n",
    "import unittest\n",
    "from a11_1_3_f_name_function_fml import get_fml_name\n",
    "\n",
    "class NamesTestCase(unittest.TestCase):\n",
    "    \"\"\"测试a11_1_3_f_name_function_fml.py\"\"\"\n",
    "    \n",
    "    def test_first_last_name(self):\n",
    "        \"\"\"能够正确地处理像Zhang San这样的姓名吗？\"\"\"\n",
    "        test_name = get_fml_name('san', 'zhang')\n",
    "        self.assertEqual(test_name, 'San Zhang')\n",
    "    \n",
    "try:\n",
    "    if __name__ == '__main__':\n",
    "        unittest.main(argv=[''])\n",
    "except SystemExit as se:\n",
    "    if se.code != 0:\n",
    "        print(f\"Tests failed with exit code {se.code}.\")"
   ]
  },
  {
   "cell_type": "raw",
   "id": "6a3f8b72",
   "metadata": {},
   "source": [
    "11.1.4　测试未通过时怎么办\n",
    "测试未通过时，不要修改测试，而应修复导致测试不能通过的代码"
   ]
  },
  {
   "cell_type": "code",
   "execution_count": 1,
   "id": "1a90952c",
   "metadata": {},
   "outputs": [
    {
     "name": "stderr",
     "output_type": "stream",
     "text": [
      ".\n",
      "----------------------------------------------------------------------\n",
      "Ran 1 test in 0.001s\n",
      "\n",
      "OK\n"
     ]
    }
   ],
   "source": [
    "# a11_1_4_test_name_function_flm.py\n",
    "\n",
    "import unittest\n",
    "from a11_1_4_f_name_function_flm import get_flm_name\n",
    "\n",
    "class NamesTestCase(unittest.TestCase):\n",
    "    \"\"\"测试a11_1_4_f_name_function_flm.py\"\"\"\n",
    "    \n",
    "    def test_first_last_name(self):\n",
    "        \"\"\"能够正确地处理像Zhang San这样的姓名吗？\"\"\"\n",
    "        formatted_name = get_flm_name('san', 'zhang')\n",
    "        self.assertEqual(formatted_name, 'San Zhang')\n",
    "    \n",
    "try:\n",
    "    if __name__ == '__main__':\n",
    "        unittest.main(argv=[''])\n",
    "except SystemExit as se:\n",
    "    if se.code != 0:\n",
    "        print(f\"Tests failed with exit code {se.code}.\")"
   ]
  },
  {
   "cell_type": "raw",
   "id": "481501a4",
   "metadata": {},
   "source": [
    "11.1.5　添加新测试"
   ]
  },
  {
   "cell_type": "code",
   "execution_count": 3,
   "id": "2b5b6678",
   "metadata": {},
   "outputs": [
    {
     "name": "stderr",
     "output_type": "stream",
     "text": [
      "..\n",
      "----------------------------------------------------------------------\n",
      "Ran 2 tests in 0.002s\n",
      "\n",
      "OK\n"
     ]
    }
   ],
   "source": [
    "# a11_1_5_test_name_function_fl_flm.py\n",
    "# 创建类NamesTestCase,继承unittest.TestCase\n",
    "# unittest 类最有用的功能之一：断言方法, 调用方法unittest.assertEqual()\n",
    "# 测试用例，def两个方法，测试程序的两种情况\n",
    "# 方法名必须以test_打头，这样它才会在运行test_xx.py时自动运行\n",
    "\n",
    "import unittest\n",
    "from a11_1_4_f_name_function_flm import get_flm_name\n",
    "\n",
    "class NamesTestCase(unittest.TestCase):\n",
    "    \"\"\"测试a11_1_4_f_name_function_flm.py\"\"\"\n",
    "    \n",
    "    def test_first_last_name(self):\n",
    "        \"\"\"能够正确地处理像Zhang San这样的姓名吗？\"\"\"\n",
    "        formatted_name = get_flm_name('san', 'zhang')\n",
    "        self.assertEqual(formatted_name, 'San Zhang')\n",
    "        \n",
    "    def test_first_last_middle_name(self):\n",
    "        \"\"\"能够正确地处理像wang xiao wu这样的姓名吗？\"\"\"\n",
    "        formatted_name = get_flm_name('xiao', 'zhang', 'san')\n",
    "        self.assertEqual(formatted_name, 'Xiao San Zhang')\n",
    "    \n",
    "try:\n",
    "    if __name__ == '__main__':\n",
    "        unittest.main(argv=[''])\n",
    "except SystemExit as se:\n",
    "    if se.code != 0:\n",
    "        print(f\"Tests failed with exit code {se.code}.\")"
   ]
  },
  {
   "cell_type": "raw",
   "id": "c715d834",
   "metadata": {},
   "source": [
    "练习11-1：城市和国家 　编写一个函数，它接受两个形参：一个城市名和一个国家名。\n",
    "这个函数返回一个格式为 City , Country 的字符串，如Santiago, Chile 。\n",
    "将这个函数存储在一个名为city_functions.py的模块中。\n",
    "创建一个名为test_cities.py的程序，对刚才编写的函数进行测试（别忘了，需要导入模块unittest 和要测试的函数）。\n",
    "编写一个名为test_city_country() 的方法，核实使用类似于'santiago' 和'chile'\n",
    "这样的值来调用前述函数时，得到的字符串是正确的。\n",
    "运行test_cities.py，确认测试test_city_country() 通过了。"
   ]
  },
  {
   "cell_type": "raw",
   "id": "e4b5c2c9",
   "metadata": {},
   "source": [
    "练习11-2：人口数量 　修改前面的函数，加上第三个必不可少的形参population ，\n",
    "并返回一个格式为 City , Country – population xxx的字符串，\n",
    "如Santiago, Chile – population 5000000 。\n",
    "运行test_cities.py，确认测试test_city_country() 未通过。\n",
    "修改上述函数，将形参population 设置为可选的。\n",
    "再次运行test_cities.py，确认测试test_city_country() 又通过了。\n",
    "再编写一个名为test_city_country_population() 的测试，\n",
    "核实可以使用类似于'santiago' 、'chile' 和'population=5000000' 这样的值来调用这个函数。\n",
    "再次运行test_cities.py，确认测试test_city_country_population() 通过了。"
   ]
  },
  {
   "cell_type": "raw",
   "id": "8fa700f3",
   "metadata": {},
   "source": [
    "11.2　测试类"
   ]
  },
  {
   "cell_type": "raw",
   "id": "c49a89f9",
   "metadata": {},
   "source": [
    "11.2.1　各种断言方法\n",
    "表11-1　unittest模块中的断言方法\n",
    "assertEqual(a, b) --> 核实a == b\n",
    "assertNotEqual(a, b) --> 核实a != b\n",
    "assertTrue(x) --> 核实x 为True\n",
    "assertFalse(x) --> 核实x 为False\n",
    "assertIn(item , list ) --> 核实 item 在 list 中\n",
    "assertNotIn(item , list ) --> 核实 item 不在 list 中"
   ]
  },
  {
   "cell_type": "raw",
   "id": "6e518494",
   "metadata": {},
   "source": [
    "11.2.2　一个要测试的类"
   ]
  },
  {
   "cell_type": "code",
   "execution_count": 18,
   "id": "beefe509",
   "metadata": {},
   "outputs": [],
   "source": [
    "# a11_2_2_c_AnonymousSurvey.py\n",
    "# 定义一个类，包含三个行为show_question(),store_question(),show_results()\n",
    "\n",
    "class AnonymousSurvey:\n",
    "    \"\"\"收集匿名调查问卷的答案。\"\"\"\n",
    "    \n",
    "    def __init__(self, question):\n",
    "        \"\"\"存储一个问题，并为存储答案做准备。\"\"\"\n",
    "        self.question = question\n",
    "        self.responses = []\n",
    "    \n",
    "    def show_question(self):\n",
    "        \"\"\"显示调查问卷。\"\"\"\n",
    "        print(self.question)\n",
    "\n",
    "    def store_response(self, new_response):\n",
    "        \"\"\"存储单份调查答卷。\"\"\"\n",
    "        self.responses.append(new_response)\n",
    "    \n",
    "    def show_results(self):\n",
    "        \"\"\"显示收集到的所有答卷。\"\"\"\n",
    "        print(\"Survey results:\")\n",
    "        for response in self.responses:\n",
    "            print(f\"- {response}\")"
   ]
  },
  {
   "cell_type": "code",
   "execution_count": 4,
   "id": "14baeb90",
   "metadata": {},
   "outputs": [
    {
     "name": "stdout",
     "output_type": "stream",
     "text": [
      "Which language can you speak?\n",
      "Enter 'q' at any time to quit.\n",
      "\n",
      "Language: chinese\n",
      "Language: english\n",
      "Language: Deutsch\n",
      "Language: dialog\n",
      "Language: q\n",
      "\n",
      "Thank you to everyone who participated in the survey!\n",
      "Survey results:\n",
      "- chinese\n",
      "- english\n",
      "- Deutsch\n",
      "- dialog\n"
     ]
    }
   ],
   "source": [
    "# a11_2_2_language_survey.py\n",
    "# 创建类的实例\n",
    "\n",
    "from a11_2_2_c_AnonymousSurvey import AnonymousSurvey\n",
    "\n",
    "# 定义一个问题，并创建一个调查。\n",
    "question = \"Which language can you speak?\"\n",
    "my_survey = AnonymousSurvey(question)\n",
    "\n",
    "# 显示问题并存储答案。\n",
    "my_survey.show_question()\n",
    "print(\"Enter 'q' at any time to quit.\\n\")\n",
    "while True:\n",
    "    response = input(\"Language: \")\n",
    "    if response == 'q':\n",
    "        break\n",
    "    my_survey.store_response(response)\n",
    "\n",
    "# 显示调查结果。\n",
    "print(\"\\nThank you to everyone who participated in the survey!\")\n",
    "my_survey.show_results()"
   ]
  },
  {
   "cell_type": "code",
   "execution_count": null,
   "id": "a4a56c65",
   "metadata": {},
   "outputs": [],
   "source": [
    "11.2.3　测试AnonymousSurvey 类"
   ]
  },
  {
   "cell_type": "code",
   "execution_count": 7,
   "id": "0680c37a",
   "metadata": {},
   "outputs": [
    {
     "name": "stderr",
     "output_type": "stream",
     "text": [
      "...\n",
      "----------------------------------------------------------------------\n",
      "Ran 3 tests in 0.003s\n",
      "\n",
      "OK\n"
     ]
    }
   ],
   "source": [
    "# a11_2_3a_test_survey_single.py\n",
    "# 测试AnonymousSurvey类的一个行为store_response()\n",
    "\n",
    "import unittest\n",
    "from a11_2_2_c_AnonymousSurvey import AnonymousSurvey\n",
    "\n",
    "class TestAnonymousSurvey(unittest.TestCase):\n",
    "    \"\"\"针对AnonymousSurvey类的测试。\"\"\"\n",
    "    \n",
    "    def test_store_single_response(self):\n",
    "        \"\"\"测试单个答案会被妥善地存储。\"\"\"\n",
    "        question = \"Which language can you speak?\"\n",
    "        my_survey = AnonymousSurvey(question)\n",
    "        my_survey.store_response('English')\n",
    "        self.assertIn('English', my_survey.responses)\n",
    "        \n",
    "try:\n",
    "    if __name__ == '__main__':\n",
    "        unittest.main(argv=[''])\n",
    "except SystemExit as se:\n",
    "    if se.code != 0:\n",
    "        print(f\"Tests failed with exit code {se.code}.\")"
   ]
  },
  {
   "cell_type": "code",
   "execution_count": 8,
   "id": "ee1febba",
   "metadata": {},
   "outputs": [
    {
     "name": "stderr",
     "output_type": "stream",
     "text": [
      "....\n",
      "----------------------------------------------------------------------\n",
      "Ran 4 tests in 0.004s\n",
      "\n",
      "OK\n"
     ]
    }
   ],
   "source": [
    "# a11_2_3b_test_survey_single_three.py\n",
    "# 测试AnonymousSurvey类的一个行为store_response()\n",
    "# 测试用例包含两个测试：测试单个输入_single_response()和多个输入_three_responses()\n",
    "\n",
    "import unittest\n",
    "from a11_2_2_c_AnonymousSurvey import AnonymousSurvey\n",
    "\n",
    "class TestAnonymousSurvey(unittest.TestCase):\n",
    "    \"\"\"针对AnonymousSurvey类的测试。\"\"\"\n",
    "    def test_store_single_response(self):\n",
    "        \"\"\"测试单个答案会被妥善地存储。\"\"\"\n",
    "        question = \"Which language can you speak?\"\n",
    "        my_survey = AnonymousSurvey(question)\n",
    "        my_survey.store_response('English')\n",
    "        self.assertIn('English', my_survey.responses)\n",
    "        \n",
    "    def test_store_three_responses(self):\n",
    "        \"\"\"测试三个答案会被妥善地存储。\"\"\"\n",
    "        question = \"Which language can you speak?\"\n",
    "        my_survey = AnonymousSurvey(question)\n",
    "        my_responses = ['English', 'Spanish', 'Mandarin']\n",
    "        for response in my_responses:\n",
    "            my_survey.store_response(response)\n",
    "        \n",
    "        for my_response in my_responses:\n",
    "            self.assertIn(my_response, my_survey.responses)\n",
    "        \n",
    "try:\n",
    "    if __name__ == '__main__':\n",
    "        unittest.main(argv=[''])\n",
    "except SystemExit as se:\n",
    "    if se.code != 0:\n",
    "        print(f\"Tests failed with exit code {se.code}.\")"
   ]
  },
  {
   "cell_type": "raw",
   "id": "a7a2af9b",
   "metadata": {},
   "source": [
    "11.2.4　方法setUp()\n",
    "unittest.TestCase类包含的方法setUp() 让我们只需创建这些对象一次，就能在每个测试方法中使用\n",
    "Python将先运行方法setUp()，再运行各个以test_ 打头的方法。\n",
    "setUp()在测试类中定义属性变量，前缀self.变量，可在这个类的任何地方使用"
   ]
  },
  {
   "cell_type": "code",
   "execution_count": 9,
   "id": "033bc55f",
   "metadata": {},
   "outputs": [
    {
     "name": "stderr",
     "output_type": "stream",
     "text": [
      "....\n",
      "----------------------------------------------------------------------\n",
      "Ran 4 tests in 0.005s\n",
      "\n",
      "OK\n"
     ]
    }
   ],
   "source": [
    "# a11_2_4_test_survey_setUp().py\n",
    "# 测试AnonymousSurvey类的一个行为store_response()\n",
    "# 测试用例包含setUp()属性和两个测试：setUp(),_single_response()和_three_responses()\n",
    "\n",
    "import unittest\n",
    "from a11_2_2_c_AnonymousSurvey import AnonymousSurvey\n",
    "class TestAnonymousSurvey(unittest.TestCase):\n",
    "    \"\"\"针对AnonymousSurvey类的测试。\"\"\"\n",
    "    \n",
    "    def setUp(self):\n",
    "        \"\"\"\n",
    "        创建一个调查对象和一组答案，供使用的测试方法使用。\n",
    "        \"\"\"\n",
    "        question = \"Which language can you speak?\"\n",
    "        self.my_survey = AnonymousSurvey(question)\n",
    "        self.my_responses = ['English', 'Spanish', 'Mandarin']\n",
    "\n",
    "    def test_store_single_response(self):\n",
    "        \"\"\"测试单个答案会被妥善地存储。\"\"\"\n",
    "        self.my_survey.store_response(self.my_responses[0])\n",
    "        self.assertIn(self.my_responses[0], self.my_survey.responses)\n",
    "\n",
    "    def test_store_three_responses(self):\n",
    "        \"\"\" 测试三个答案会被妥善地存储。\n",
    "            第一个for循环，遍历属性列表my_resonses元素，存储到类的列表中responses\n",
    "            第二个for循环，遍历属性列表元素，使用assertIn()方法检查属性列表元素是否存储在类列表中responses\n",
    "        \"\"\"\n",
    "        for response in self.my_responses:\n",
    "            self.my_survey.store_response(response)\n",
    "        for my_response in self.my_responses:\n",
    "            self.assertIn(my_response, self.my_survey.responses)\n",
    "\n",
    "try:\n",
    "    if __name__ == '__main__':\n",
    "        unittest.main(argv=[''])\n",
    "except SystemExit as se:\n",
    "    if se.code != 0:\n",
    "        print(f\"Tests failed with exit code {se.code}.\")"
   ]
  },
  {
   "cell_type": "raw",
   "id": "d5ee88bd",
   "metadata": {},
   "source": [
    "练习11-3：雇员 　编写一个名为Employee 的类，其方法__init__() 接受名、姓和年薪，并将它们存储在属性中。\n",
    "编写一个名为give_raise() 的方法，它默认将年薪增加5000美元，但也能够接受其他的年薪增加量。\n",
    "为Employee 编写一个测试用例，其中包含两个测试方法：test_give_default_raise() 和test_give_custom_raise() 。\n",
    "使用方法setUp() ，以免在每个测试方法中都新建雇员实例。\n",
    "运行这个测试用例，确认两个测试都通过了。"
   ]
  },
  {
   "cell_type": "raw",
   "id": "5944b2d2",
   "metadata": {},
   "source": [
    "11.3　小结\n",
    "作为初学者，并非必须为你尝试的所有项目编写测试。\n",
    "然而参与工作量较大的项目时，你应该对自己所编写函数和类的重要行为进行测试。\n",
    "不要在项目早期试图编写全覆盖的测试用例，除非有充分的理由。"
   ]
  }
 ],
 "metadata": {
  "hide_input": false,
  "kernelspec": {
   "display_name": "Python [conda env:.conda-fyp2023]",
   "language": "python",
   "name": "conda-env-.conda-fyp2023-py"
  },
  "language_info": {
   "codemirror_mode": {
    "name": "ipython",
    "version": 3
   },
   "file_extension": ".py",
   "mimetype": "text/x-python",
   "name": "python",
   "nbconvert_exporter": "python",
   "pygments_lexer": "ipython3",
   "version": "3.11.5"
  },
  "toc": {
   "base_numbering": 1,
   "nav_menu": {},
   "number_sections": true,
   "sideBar": true,
   "skip_h1_title": false,
   "title_cell": "Table of Contents",
   "title_sidebar": "Contents",
   "toc_cell": false,
   "toc_position": {
    "height": "calc(100% - 180px)",
    "left": "10px",
    "top": "150px",
    "width": "165px"
   },
   "toc_section_display": true,
   "toc_window_display": false
  },
  "varInspector": {
   "cols": {
    "lenName": 16,
    "lenType": 16,
    "lenVar": 40
   },
   "kernels_config": {
    "python": {
     "delete_cmd_postfix": "",
     "delete_cmd_prefix": "del ",
     "library": "var_list.py",
     "varRefreshCmd": "print(var_dic_list())"
    },
    "r": {
     "delete_cmd_postfix": ") ",
     "delete_cmd_prefix": "rm(",
     "library": "var_list.r",
     "varRefreshCmd": "cat(var_dic_list()) "
    }
   },
   "position": {
    "height": "396.854px",
    "left": "910px",
    "right": "20px",
    "top": "120px",
    "width": "350px"
   },
   "types_to_exclude": [
    "module",
    "function",
    "builtin_function_or_method",
    "instance",
    "_Feature"
   ],
   "window_display": false
  }
 },
 "nbformat": 4,
 "nbformat_minor": 5
}
