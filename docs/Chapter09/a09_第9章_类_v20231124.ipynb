{
 "cells": [
  {
   "cell_type": "markdown",
   "id": "e27a4d82",
   "metadata": {},
   "source": [
    "# Python编程：从入门到实践（第2版）/ 20230323 <a class=\"tocSkip\">"
   ]
  },
  {
   "cell_type": "markdown",
   "id": "f8c90d1e",
   "metadata": {},
   "source": [
    "# 第 9 章　类 / 20230606 <a class=tocSkip>"
   ]
  },
  {
   "cell_type": "raw",
   "id": "8ee5431c",
   "metadata": {},
   "source": [
    "面向对象编程 是最有效的软件编写方法之一。\n",
    "在面向对象编程中，你编写表示现实世界中的事物和情景的类，并基于这些类来创建对象。\n",
    "编写类时，你定义一大类对象都有的通用行为。\n",
    "基于类创建对象 时，每个对象都自动具备这种通用行为，然后可根据需要赋予每个对象独特的个性。\n",
    "使用面向对象编程可模拟现实情景，其逼真程度达到了令人惊讶的地步。\n",
    "根据类来创建对象称为实例化"
   ]
  },
  {
   "cell_type": "raw",
   "id": "1ffe1b8d",
   "metadata": {},
   "source": [
    "9.1　创建和使用类\n",
    "使用类几乎可以模拟任何东西。\n",
    "9.1.1　创建Dog 类\n",
    "9.1.2　根据类创建实例"
   ]
  },
  {
   "cell_type": "code",
   "execution_count": 1,
   "id": "e6927cf5",
   "metadata": {},
   "outputs": [],
   "source": [
    "%reset -f\n",
    "%load_ext autoreload\n",
    "%autoreload 2"
   ]
  },
  {
   "cell_type": "code",
   "execution_count": 5,
   "id": "9d9dc39f",
   "metadata": {},
   "outputs": [
    {
     "name": "stdout",
     "output_type": "stream",
     "text": [
      "My dog's name is zhaocai.\n",
      "My dog is 2 years old.\n"
     ]
    }
   ],
   "source": [
    "# a09_1_1.py\n",
    "# 创建一个Dog类\n",
    "\n",
    "import dog.a09_1_1_class_Dog as a09_1_1\n",
    "\n",
    "my_dog = a09_1_1.Dog('zhaocai', 2) # 根据Dog类，创建实例 my_dog\n",
    "\n",
    "print(f\"My dog's name is {my_dog.name}.\") # 访问实例my_dog的属性name\n",
    "print(f\"My dog is {my_dog.age} years old.\") # 访问实例my_dog的属性age"
   ]
  },
  {
   "cell_type": "markdown",
   "id": "9d495e75",
   "metadata": {},
   "source": [
    "![Dog](a09_fig/a09_1_1.png)"
   ]
  },
  {
   "cell_type": "code",
   "execution_count": 3,
   "id": "3a253049",
   "metadata": {},
   "outputs": [
    {
     "name": "stdout",
     "output_type": "stream",
     "text": [
      "My dog's name is dahei.\n",
      "My dog is 3 years old.\n"
     ]
    }
   ],
   "source": [
    "# a09_1_1a.py\n",
    "# a. 使用绝对路径导入dog.py模块\n",
    "\n",
    "import sys\n",
    "sys.path.insert(0, 'B:/04_Beginner/01_GitHub/fypbjchina2023/a_PythonCrashCourse/Chapter09/Dog')\n",
    "\n",
    "import a09_1_1_class_Dog as a09_1_1 # 导入模块a09_1_1_class_Dog.py\n",
    "\n",
    "my_dog = a09_1_1.Dog('dahei', 3) # 从模块dog.py中调用类Dog\n",
    "\n",
    "print(f\"My dog's name is {my_dog.name}.\")\n",
    "print(f\"My dog is {my_dog.age} years old.\")"
   ]
  },
  {
   "cell_type": "code",
   "execution_count": 6,
   "id": "c1c19f60",
   "metadata": {},
   "outputs": [
    {
     "name": "stdout",
     "output_type": "stream",
     "text": [
      "My dog's name is dahei.\n",
      "My dog is 3 years old.\n"
     ]
    }
   ],
   "source": [
    "# a09_1_1b.py\n",
    "# b. 使用绝对路径导入dog.py模块\n",
    "\n",
    "import sys\n",
    "sys.path.insert(0, 'B:/04_Beginner/01_GitHub/fypbjchina2023/a_PythonCrashCourse/Chapter09/dog')\n",
    "\n",
    "from a09_1_1_class_Dog import Dog #从模块a09_1_1_class_Dog.py中导入类Dog\n",
    "\n",
    "my_dog = Dog('dahei', 3)\n",
    "\n",
    "print(f\"My dog's name is {my_dog.name}.\")\n",
    "print(f\"My dog is {my_dog.age} years old.\")"
   ]
  },
  {
   "cell_type": "code",
   "execution_count": 7,
   "id": "55227d88",
   "metadata": {},
   "outputs": [
    {
     "name": "stdout",
     "output_type": "stream",
     "text": [
      "['B:/04_Beginner/01_GitHub/fypbjchina2023/a_PythonCrashCourse/Chapter09/dog', 'B:/04_Beginner/01_GitHub/fypbjchina2023/a_PythonCrashCourse/Chapter09/Dog', 'B:/04_Beginner/01_GitHub/fypbjchina2023/a_PythonCrashCourse/Chapter09/', 'b:\\\\04_Beginner\\\\01_GitHub\\\\fypbjchina2023\\\\a_PythonCrashCourse\\\\Chapter09', 'c:\\\\Users\\\\fuy3pk\\\\.conda\\\\envs\\\\python39\\\\python311.zip', 'c:\\\\Users\\\\fuy3pk\\\\.conda\\\\envs\\\\python39\\\\DLLs', 'c:\\\\Users\\\\fuy3pk\\\\.conda\\\\envs\\\\python39\\\\Lib', 'c:\\\\Users\\\\fuy3pk\\\\.conda\\\\envs\\\\python39', '', 'c:\\\\Users\\\\fuy3pk\\\\.conda\\\\envs\\\\python39\\\\Lib\\\\site-packages', 'c:\\\\Users\\\\fuy3pk\\\\.conda\\\\envs\\\\python39\\\\Lib\\\\site-packages\\\\win32', 'c:\\\\Users\\\\fuy3pk\\\\.conda\\\\envs\\\\python39\\\\Lib\\\\site-packages\\\\win32\\\\lib', 'c:\\\\Users\\\\fuy3pk\\\\.conda\\\\envs\\\\python39\\\\Lib\\\\site-packages\\\\Pythonwin']\n"
     ]
    }
   ],
   "source": [
    "# a09_1_1_sys.path.py\n",
    "# 查看系统路径\n",
    "\n",
    "import sys; print(sys.path)"
   ]
  },
  {
   "cell_type": "raw",
   "id": "b63bb17a",
   "metadata": {},
   "source": [
    "练习9-1：餐馆 　创建一个名为Restaurant 的类，为其方法__init__()\n",
    "设置属性restaurant_name 和cuisine_type 。\n",
    "创建一个名为describe_restaurant() 的方法和一个名为open_restaurant() 的方法，\n",
    "前者打印前述两项信息，而后者打印一条消息，指出餐馆正在营业。\n",
    "根据这个类创建一个名为restaurant 的实例，分别打印其两个属性，再调用前述两个方法。"
   ]
  },
  {
   "cell_type": "raw",
   "id": "743b05f5",
   "metadata": {},
   "source": [
    "练习9-2：三家餐馆 　根据为完成练习9-1而编写的类创建三个实例，\n",
    "并对每个实例调用方法describe_restaurant() 。"
   ]
  },
  {
   "cell_type": "raw",
   "id": "66b3907a",
   "metadata": {},
   "source": [
    "练习9-3：用户 　创建一个名为User 的类，其中包含属性first_name 和last_name ，\n",
    "以及用户简介通常会存储的其他几个属性。\n",
    "在类User 中定义一个名为describe_user() 的方法，用于打印用户信息摘要。\n",
    "再定义一个名为greet_user() 的方法，用于向用户发出个性化的问候。\n",
    "创建多个表示不同用户的实例，并对每个实例调用上述两个方法。"
   ]
  },
  {
   "cell_type": "raw",
   "id": "d6397340",
   "metadata": {},
   "source": [
    "9.2　使用类和实例\n",
    "可使用类来模拟现实世界中的很多情景。类编写好后，你的大部分时间将花在根据类创建的实例上。\n",
    "你需要执行的一个重要任务是修改实例的属性。\n",
    "可以直接修改实例的属性，也可以编写方法以特定的方式进行修改。"
   ]
  },
  {
   "cell_type": "raw",
   "id": "81beefd7",
   "metadata": {},
   "source": [
    "9.2.1　Car 类"
   ]
  },
  {
   "cell_type": "code",
   "execution_count": 9,
   "id": "2c97671b",
   "metadata": {},
   "outputs": [
    {
     "name": "stdout",
     "output_type": "stream",
     "text": [
      "2019 VW PASSAT\n"
     ]
    }
   ],
   "source": [
    "# a09_2_1.py\n",
    "# 创建一个Car类\n",
    "\n",
    "import sys\n",
    "sys.path.insert(0, 'B:/04_Beginner/01_GitHub/fypbjchina2023/a_PythonCrashCourse/Chapter09')\n",
    "\n",
    "import car.a09_2_1_class_Car as a09_2_1\n",
    "\n",
    "my_new_car = a09_2_1.Car('vw', 'passat', 2019)\n",
    "print(my_new_car.get_descriptive_name())"
   ]
  },
  {
   "cell_type": "markdown",
   "id": "f7d92afa",
   "metadata": {},
   "source": [
    "![Car](a09_fig/a09_2_1.png)"
   ]
  },
  {
   "cell_type": "raw",
   "id": "8449fc33",
   "metadata": {},
   "source": [
    "9.2.2　给属性指定默认值\n",
    "创建实例时，有些属性无须通过形参来定义，可在方法__init__() 中为其指定默认值"
   ]
  },
  {
   "cell_type": "code",
   "execution_count": 11,
   "id": "f4694557",
   "metadata": {},
   "outputs": [
    {
     "name": "stdout",
     "output_type": "stream",
     "text": [
      "2019 VW PASSAT\n",
      "This car has 10000 miles on it.\n"
     ]
    }
   ],
   "source": [
    "# a09_2_2.py\n",
    "# 创建一个Car类，给属性指定默认值0\n",
    "\n",
    "import a09_2_2_class_Car as a09_2_2\n",
    "\n",
    "my_new_car = a09_2_2.Car('vw', 'passat', 2019)\n",
    "print(my_new_car.get_descriptive_name())\n",
    "my_new_car.read_odometer()"
   ]
  },
  {
   "cell_type": "raw",
   "id": "9784c24f",
   "metadata": {},
   "source": [
    "9.2.3　修改属性的值"
   ]
  },
  {
   "cell_type": "code",
   "execution_count": 12,
   "id": "2bd8cfde",
   "metadata": {},
   "outputs": [
    {
     "name": "stdout",
     "output_type": "stream",
     "text": [
      "2019 VW PASSAT\n",
      "This car has 50 miles on it.\n"
     ]
    }
   ],
   "source": [
    "# a09_2_3a.py\n",
    "# a. 直接修改属性的值\n",
    "\n",
    "import a09_2_2_class_Car as a09_2_2\n",
    "\n",
    "my_new_car = a09_2_2.Car('vw', 'passat', 2019)\n",
    "print(my_new_car.get_descriptive_name())\n",
    "\n",
    "my_new_car.odometer_reading = 50 # 修改属性odometer_reading的值为50\n",
    "my_new_car.read_odometer()"
   ]
  },
  {
   "cell_type": "code",
   "execution_count": 13,
   "id": "fb1914e7",
   "metadata": {},
   "outputs": [
    {
     "name": "stdout",
     "output_type": "stream",
     "text": [
      "2019 VW PASSAT\n",
      "This car has 5000 miles on it.\n"
     ]
    }
   ],
   "source": [
    "# a09_2_3b1.py\n",
    "# b1. 通过定义的方法update_odometer()修改属性的值\n",
    "\n",
    "import a09_2_3b1_class_Car as a09_2_3b1\n",
    "\n",
    "my_new_car = a09_2_3b1.Car('vw', 'passat', 2019)\n",
    "print(my_new_car.get_descriptive_name())\n",
    "\n",
    "my_new_car.update_odometer(5000) # 修改属性odometer_reading的值为23\n",
    "my_new_car.read_odometer()"
   ]
  },
  {
   "cell_type": "code",
   "execution_count": 14,
   "id": "e78255d7",
   "metadata": {},
   "outputs": [
    {
     "name": "stdout",
     "output_type": "stream",
     "text": [
      "2019 VW PASSAT\n",
      "You can't roll back an odometer!\n",
      "False\n",
      "This car has already 10000 miles on it.\n"
     ]
    }
   ],
   "source": [
    "# a09_2_3b2.py\n",
    "# b2. 通过定义的方法update_odometer()修改属性的值，禁止里程回调(默认10000)\n",
    "\n",
    "import a09_2_3b2_class_Car as a09_2_3b2\n",
    "\n",
    "my_new_car = a09_2_3b2.Car('vw', 'passat', 2019)\n",
    "print(my_new_car.get_descriptive_name())\n",
    "\n",
    "print(my_new_car.update_odometer(500)) # 修改属性odometer_reading的值\n",
    "\n",
    "my_new_car.read_odometer()"
   ]
  },
  {
   "cell_type": "code",
   "execution_count": 15,
   "id": "6f9cea3e",
   "metadata": {},
   "outputs": [
    {
     "name": "stdout",
     "output_type": "stream",
     "text": [
      "2019 VW PASSAT\n",
      "This car has already 23500 miles on it.\n",
      "This car has already 22500 miles on it.\n"
     ]
    }
   ],
   "source": [
    "# a09_2_3c1.py\n",
    "# c1. 通过方法对属性的值进行递增\n",
    "\n",
    "import a09_2_3c1_class_Car as a09_2_3c1\n",
    "\n",
    "my_used_car = a09_2_3c1.Car('vw', 'passat', 2019)\n",
    "print(my_used_car.get_descriptive_name())\n",
    "\n",
    "my_used_car.update_odometer(23_500) # 修改属性odometer_reading的值\n",
    "my_used_car.read_odometer()\n",
    "\n",
    "my_used_car.increment_odometer(-1000) # 增加里程100，追加到属性odometer_reading\n",
    "my_used_car.read_odometer()"
   ]
  },
  {
   "cell_type": "code",
   "execution_count": 18,
   "id": "12b5d826",
   "metadata": {},
   "outputs": [
    {
     "name": "stdout",
     "output_type": "stream",
     "text": [
      "2019 VW PASSAT\n",
      "This car has already 23500 miles on it.\n",
      "You can't roll back an odometer!\n",
      "This car has already 23500 miles on it.\n"
     ]
    }
   ],
   "source": [
    "# a09_2_3c2.py\n",
    "# c2. 通过方法对属性的值进行递增，禁止新增里程为负值\n",
    "\n",
    "import a09_2_3c2_class_Car as a09_2_3c2\n",
    "\n",
    "my_used_car = a09_2_3c2.Car('vw', 'passat', 2019)\n",
    "print(my_used_car.get_descriptive_name())\n",
    "\n",
    "my_used_car.update_odometer(23_500) # 修改属性odometer_reading的值\n",
    "my_used_car.read_odometer()\n",
    "\n",
    "my_used_car.increment_odometer(-1000) # 增加里程，追加到属性odometer_reading\n",
    "my_used_car.read_odometer()"
   ]
  },
  {
   "cell_type": "raw",
   "id": "bc67831c",
   "metadata": {},
   "source": [
    "练习9-4：就餐人数 　在为完成练习9-1而编写的程序中，\n",
    "添加一个名为number_served 的属性，并将其默认值设置为0。\n",
    "根据这个类创建一个名为restaurant 的实例。\n",
    "打印有多少人在这家餐馆就餐过，然后修改这个值并再次打印它。\n",
    "添加一个名为set_number_served() 的方法，让你能够设置就餐人数。\n",
    "调用这个方法并向它传递一个值，然后再次打印这个值。\n",
    "添加一个名为increment_number_served() 的方法，让你能够将就餐人数递增。\n",
    "调用这个方法并向它传递一个这样的值：你认为这家餐馆每天可能接待的就餐人数。"
   ]
  },
  {
   "cell_type": "raw",
   "id": "881084b0",
   "metadata": {},
   "source": [
    "练习9-5：尝试登录次数 　\n",
    "在为完成练习9-3而编写的User 类中，添加一个名为login_attempts 的属性。\n",
    "编写一个名为increment_login_attempts() 的方法，将属性login_attempts 的值加1。\n",
    "再编写一个名为reset_login_attempts() 的方法，将属性login_attempts 的值重置为0。\n",
    "根据User 类创建一个实例，再调用方法increment_login_attempts()多次。\n",
    "打印属性login_attempts 的值，确认它被正确地递增。\n",
    "然后，调用方法reset_login_attempts() ，并再次打印属性login_attempts 的值，确认它被重置为0。"
   ]
  },
  {
   "cell_type": "raw",
   "id": "77bec1f2",
   "metadata": {},
   "source": [
    "9.3　继承\n",
    "要编写的类是另一个现成类的特殊版本，可使用继承。\n",
    "一个类继承 另一个类时，将自动获得另一个类的所有属性和方法。\n",
    "原有的类称为父类 ，而新类称为子类。"
   ]
  },
  {
   "cell_type": "raw",
   "id": "6e26b43e",
   "metadata": {},
   "source": [
    "9.3.1　子类的方法__init__()\n",
    "函数super().__init__()"
   ]
  },
  {
   "cell_type": "code",
   "execution_count": 19,
   "id": "6443607a",
   "metadata": {},
   "outputs": [
    {
     "name": "stdout",
     "output_type": "stream",
     "text": [
      "2025 byd tang\n"
     ]
    }
   ],
   "source": [
    "# a09_3_1.py\n",
    "# super().__init__(make, model, year)调用父类的方法__init__()\n",
    "# 确认ECar类具备普通Car类的行为\n",
    "\n",
    "import a09_3_1_class_Car_E_Car as a09_3_1\n",
    "\n",
    "my_e_car = a09_3_1.ECar('byd', 'tang', 2025)\n",
    "print(my_e_car.get_descriptive_name())"
   ]
  },
  {
   "cell_type": "markdown",
   "id": "b3ea649b",
   "metadata": {},
   "source": [
    "![ECar](a09_fig/a09_3_1.png)"
   ]
  },
  {
   "cell_type": "raw",
   "id": "fb3b0f94",
   "metadata": {},
   "source": [
    "9.3.2　给子类定义属性和方法\n",
    "让一个类继承另一个类后，就可以添加区分子类和父类所需的新属性和新方法了"
   ]
  },
  {
   "cell_type": "code",
   "execution_count": 20,
   "id": "4b85bc47",
   "metadata": {},
   "outputs": [
    {
     "name": "stdout",
     "output_type": "stream",
     "text": [
      "2025 byd tang\n",
      "This car has a 75-kWh battery.\n"
     ]
    }
   ],
   "source": [
    "# a09_3_2.py\n",
    "# ECar类定义特有属性battery_size\n",
    "# ECar类定义特有方法describe_battery()\n",
    "\n",
    "import a09_3_2_class_Car_E_Car as a09_3_2\n",
    "\n",
    "my_e_car = a09_3_2.ECar('byd', 'tang', 2025)\n",
    "print(my_e_car.get_descriptive_name())\n",
    "\n",
    "my_e_car.describe_battery()"
   ]
  },
  {
   "cell_type": "raw",
   "id": "a26fe318",
   "metadata": {},
   "source": [
    "9.3.3　重写父类的方法"
   ]
  },
  {
   "cell_type": "code",
   "execution_count": 21,
   "id": "4b1ca30f",
   "metadata": {},
   "outputs": [
    {
     "name": "stdout",
     "output_type": "stream",
     "text": [
      "2025 byd tang\n",
      "This car has a 75-kWh battery.\n",
      "Please attention the Öl type!\n",
      "This is a E_Car, doesn't have an oil tank!\n"
     ]
    }
   ],
   "source": [
    "# a09_3_3.py\n",
    "# ECar类同名重写Car类方法fill_tank()\n",
    "\n",
    "import a09_3_3_class_Car_E_Car as a09_3_3\n",
    "\n",
    "my_ö_car = a09_3_3.Car('vw', 'passat', 2019)\n",
    "my_e_car = a09_3_3.ECar('byd', 'tang', 2025)\n",
    "\n",
    "print(my_e_car.get_descriptive_name())\n",
    "\n",
    "my_e_car.describe_battery()\n",
    "\n",
    "my_ö_car.fill_tank()\n",
    "my_e_car.fill_tank()"
   ]
  },
  {
   "cell_type": "raw",
   "id": "4bff1da5",
   "metadata": {},
   "source": [
    "9.3.4　将实例用作属性"
   ]
  },
  {
   "cell_type": "code",
   "execution_count": 22,
   "id": "44a6ee8f",
   "metadata": {},
   "outputs": [
    {
     "name": "stdout",
     "output_type": "stream",
     "text": [
      "2025 byd tang\n",
      "This car has a 75-kWh battery.\n"
     ]
    }
   ],
   "source": [
    "# a09_3_4a.py\n",
    "# 使用的是Battery类的一个实例作为ECar类的一个属性\n",
    "\n",
    "import a09_3_4a_class_Car_Battery_E_Car as a09_3_4a\n",
    "\n",
    "my_e_car = a09_3_4a.ECar('byd', 'tang', 2025)\n",
    "print(my_e_car.get_descriptive_name())\n",
    "\n",
    "# ECar属性battery通过实例调用Battery方法\n",
    "my_e_car.battery.describe_battery()"
   ]
  },
  {
   "cell_type": "markdown",
   "id": "ec199a88",
   "metadata": {},
   "source": [
    "![ECar](a09_fig/a09_3_4a.png)"
   ]
  },
  {
   "cell_type": "code",
   "execution_count": 23,
   "id": "be377b02",
   "metadata": {},
   "outputs": [
    {
     "name": "stdout",
     "output_type": "stream",
     "text": [
      "2025 byd tang\n",
      "This car has a 100-kWh battery.\n",
      "This car can go about 315 miles on a full charge.\n",
      "This car has a 100-kWh battery.\n",
      "This car can go about 315 miles on a full charge.\n"
     ]
    }
   ],
   "source": [
    "# a09_3_4b.py\n",
    "# Battery类新增方法get_range()\n",
    "\n",
    "import a09_3_4b_class_Car_Battery_E_Car as a09_3_4b\n",
    "\n",
    "# 创建一个ECar实例my_e_car\n",
    "my_e_car = a09_3_4b.ECar('byd', 'tang', 2025)\n",
    "print(my_e_car.get_descriptive_name())\n",
    "\n",
    "# 创建一个Battery实例battery100\n",
    "battery100 = a09_3_4b.Battery(100)\n",
    "battery100.describe_battery()\n",
    "battery100.get_range()\n",
    "\n",
    "# ECar属性battery通过实例调用Battery方法\n",
    "my_e_car.battery.describe_battery()\n",
    "my_e_car.battery.get_range()"
   ]
  },
  {
   "cell_type": "raw",
   "id": "80ecd58a",
   "metadata": {},
   "source": [
    "9.3.5　模拟实物\n",
    "这让你进入了程序员的另一个境界：解决上述问题时，从较高的逻辑层面\n",
    "（而不是语法层面）考虑；考虑的不是Python，而是如何使用代码来表示实物。\n",
    "达到这种境界后，你会经常发现，对现实世界的建模方法没有对错之分。"
   ]
  },
  {
   "cell_type": "raw",
   "id": "72ed7d49",
   "metadata": {},
   "source": [
    "练习9-6：冰激凌小店 　冰激凌小店是一种特殊的餐馆。\n",
    "编写一个名为IceCreamStand 的类，让它继承为完成练习9-1或练习9-4而编写的Restaurant 类。\n",
    "这两个版本的Restaurant 类都可以，挑选你更喜欢的那个即可。\n",
    "添加一个名为flavors 的属性，用于存储一个由各种口味的冰激凌组成的列表。\n",
    "编写一个显示这些冰激凌的方法。创建一个IceCreamStand 实例，并调用这个方法。"
   ]
  },
  {
   "cell_type": "raw",
   "id": "8353e25c",
   "metadata": {},
   "source": [
    "练习9-7：管理员 　管理员是一种特殊的用户。\n",
    "编写一个名为Admin 的类，让它继承为完成练习9-3或练习9-5而编写的User 类。\n",
    "添加一个名为privileges 的属性，用于存储一个由字符串\n",
    "（如\"can add post\" 、\"candelete post\" 、\"can ban user\" 等）组成的列表。\n",
    "编写一个名为show_privileges() 的方法，显示管理员的权限。\n",
    "创建一个Admin 实例，并调用这个方法。"
   ]
  },
  {
   "cell_type": "raw",
   "id": "37b14111",
   "metadata": {},
   "source": [
    "练习9-8：权限 　编写一个名为Privileges 的类，\n",
    "它只有一个属性privileges ，其中存储了练习9-7所述的字符串列表。\n",
    "将方法show_privileges() 移到这个类中。\n",
    "在Admin 类中，将一个Privileges实例用作其属性。\n",
    "创建一个Admin 实例，并使用方法show_privileges()来显示其权限。"
   ]
  },
  {
   "cell_type": "raw",
   "id": "616b0bd1",
   "metadata": {},
   "source": [
    "练习9-9：电瓶升级 　在本节最后一个electric_car.py版本中，\n",
    "给Battery类添加一个名为upgrade_battery() 的方法。\n",
    "该方法检查电瓶容量，如果不是100，就将其设置为100。\n",
    "创建一辆电瓶容量为默认值的电动汽车，调用方法get_range() ，\n",
    "然后对电瓶进行升级，并再次调用get_range() 。\n",
    "你将看到这辆汽车的续航里程增加了。"
   ]
  },
  {
   "cell_type": "raw",
   "id": "ef1e663f",
   "metadata": {},
   "source": [
    "9.4　导入类\n",
    "遵循Python的总体理念，应让文件尽可能整洁"
   ]
  },
  {
   "cell_type": "raw",
   "id": "47b57f0a",
   "metadata": {},
   "source": [
    "9.4.1　导入单个类\n",
    "9.4.2　在一个模块中存储多个类\n",
    "9.4.3　从一个模块中导入多个类\n",
    "9.4.4　导入整个模块\n",
    "9.4.5　导入模块中的所有类\n",
    "9.4.6　在一个模块中导入另一个模块\n",
    "9.4.7　使用别名\n",
    "9.4.8　自定义工作流程"
   ]
  },
  {
   "cell_type": "code",
   "execution_count": 24,
   "id": "580f1ee8",
   "metadata": {},
   "outputs": [
    {
     "name": "stdout",
     "output_type": "stream",
     "text": [
      "2019 vw passat\n",
      "Please attention the Öl type!\n",
      "This car doesn't need a gas tank!\n",
      "2019 vw passat\n",
      "2025 byd tang\n"
     ]
    }
   ],
   "source": [
    "# a09_4.py\n",
    "# 各种导入类的方法：from-import-as\n",
    "\n",
    "# 9.4.1　导入单个类\n",
    "from a09_4_class_Car_Battery_E_Car import Car\n",
    "\n",
    "my_car = Car('vw', 'passat', 2019)\n",
    "print(my_car.get_descriptive_name())\n",
    "\n",
    "# 9.4.3　在一个模块中存储多个类\n",
    "from a09_4_class_Car_Battery_E_Car import Car, ECar\n",
    "\n",
    "my_ö_car = Car('vw', 'passat', 2019)\n",
    "my_e_car = ECar('byd', 'tang', 2025)\n",
    "\n",
    "my_ö_car.fill_tank()\n",
    "my_e_car.fill_tank()\n",
    "\n",
    "# 9.4.4　导入整个模块\n",
    "import a09_4_class_Car_Battery_E_Car as class_car\n",
    "\n",
    "my_ö_car = class_car.Car('vw', 'passat', 2019)\n",
    "my_e_car = class_car.ECar('byd', 'tang', 2025)\n",
    "\n",
    "print(my_ö_car.get_descriptive_name())\n",
    "print(my_e_car.get_descriptive_name())"
   ]
  },
  {
   "cell_type": "raw",
   "id": "ff1e16d0",
   "metadata": {},
   "source": [
    "练习9-10：导入Restaurant 类 　将最新的Restaurant 类存储在一个模块中。\n",
    "在另一个文件中，导入Restaurant 类，创建一个Restaurant \n",
    "实例并调用Restaurant 的一个方法，以确认import 语句正确无误。"
   ]
  },
  {
   "cell_type": "raw",
   "id": "737d417d",
   "metadata": {},
   "source": [
    "练习9-11：导入Admin 类 　以为完成练习9-8而做的工作为基础。\n",
    "将User类、Privileges 类和Admin 类存储在一个模块中，再创建一个文件，\n",
    "在其中创建一个Admin 实例并对其调用方法show_privileges() ，以确认一切都能正确运行。"
   ]
  },
  {
   "cell_type": "raw",
   "id": "b640079a",
   "metadata": {},
   "source": [
    "练习9-12：多个模块 　将User 类存储在一个模块中，并将Privileges 类和Admin 类存储在另一个模块中。\n",
    "再创建一个文件，在其中创建一个Admin实例并对其调用方法show_privileges() ，以确认一切依然能够正确运行。"
   ]
  },
  {
   "cell_type": "raw",
   "id": "50029a7a",
   "metadata": {},
   "source": [
    "9.5　Python标准库\n",
    "Python标准库 是一组模块, 如模块random"
   ]
  },
  {
   "cell_type": "code",
   "execution_count": 19,
   "id": "c23a8304",
   "metadata": {},
   "outputs": [
    {
     "data": {
      "text/plain": [
       "2"
      ]
     },
     "execution_count": 19,
     "metadata": {},
     "output_type": "execute_result"
    }
   ],
   "source": [
    "# a09_5a.py\n",
    "# 模块random包含函数randint()，随机返回一个位于这两个整数之间（含）的整数\n",
    "\n",
    "from random import randint\n",
    "\n",
    "randint(1,6)"
   ]
  },
  {
   "cell_type": "code",
   "execution_count": 26,
   "id": "1fb303c0",
   "metadata": {},
   "outputs": [
    {
     "name": "stdout",
     "output_type": "stream",
     "text": [
      "Xiao 2 is the next leading reader!\n"
     ]
    }
   ],
   "source": [
    "# a09_5b.py\n",
    "# 模块random包含函数choice(),它将一个列表或元组作为参数,并随机返回其中的一个元素\n",
    "\n",
    "from random import choice\n",
    "\n",
    "readers = ['zhang 3', 'li 4', 'wang 5', 'xiao 2']\n",
    "\n",
    "luck_name = choice(readers)\n",
    "\n",
    "print(f\"{luck_name.title()} is the next leading reader!\")"
   ]
  },
  {
   "cell_type": "raw",
   "id": "cccce7f9",
   "metadata": {},
   "source": [
    "练习9-13：骰子 　创建一个Die 类，它包含一个名为sides 的属性，该属性的默认值为6。\n",
    "编写一个名为roll_die() 的方法，它打印位于1和骰子面数之间的随机数。\n",
    "创建一个6面的骰子再掷10次。\n",
    "创建一个10面的骰子和一个20面的骰子，再分别掷10次。"
   ]
  },
  {
   "cell_type": "raw",
   "id": "f1b03ee9",
   "metadata": {},
   "source": [
    "练习9-14：彩票 　创建一个列表或元组，其中包含10个数和5个字母。\n",
    "从这个列表或元组中随机选择4个数或字母，并打印一条消息，\n",
    "指出只要彩票上是这4个数或字母，就中大奖了。"
   ]
  },
  {
   "cell_type": "raw",
   "id": "88f0848f",
   "metadata": {},
   "source": [
    "练习9-15：彩票分析 　可以使用一个循环来明白前述彩票大奖有多难中奖。\n",
    "为此，创建一个名为my_ticket 的列表或元组，再编写一个循环，\n",
    "不断地随机选择数或字母，直到中大奖为止。\n",
    "请打印一条消息，报告执行循环多少次才中了大奖。"
   ]
  },
  {
   "cell_type": "raw",
   "id": "463dc49c",
   "metadata": {},
   "source": [
    "练习9-16：Python Module of the Week 　要了解Python标准库，\n",
    "一个很不错的资源是网站Python Module of the Week。\n",
    "请访问该网站并查看其中的目录，找一个你感兴趣的模块进行探索。\n",
    "从模块random 开始可能是个不错的选择。"
   ]
  },
  {
   "cell_type": "raw",
   "id": "c7ab82ab",
   "metadata": {},
   "source": [
    "9.6　类编码风格\n",
    "类名应采用驼峰命名法：即将类名中的每个单词的首字母都大写，而不使用下划线\n",
    "实例名和模块名都采用小写格式，并在单词之间加上下划线\n",
    "每个类，都应紧跟在类定义后面包含一个文档字符串\n",
    "在类中，可使用一个空行来分隔方法；而在模块中，可使用两个空行来分隔类。\n",
    "先导入标准库模块，再添加一个空行，然后导入你自己编写的模块"
   ]
  }
 ],
 "metadata": {
  "hide_input": false,
  "kernelspec": {
   "display_name": "Python 3 (ipykernel)",
   "language": "python",
   "name": "python3"
  },
  "language_info": {
   "codemirror_mode": {
    "name": "ipython",
    "version": 3
   },
   "file_extension": ".py",
   "mimetype": "text/x-python",
   "name": "python",
   "nbconvert_exporter": "python",
   "pygments_lexer": "ipython3",
   "version": "3.9.7"
  },
  "toc": {
   "base_numbering": 1,
   "nav_menu": {},
   "number_sections": true,
   "sideBar": true,
   "skip_h1_title": false,
   "title_cell": "Table of Contents",
   "title_sidebar": "Contents",
   "toc_cell": false,
   "toc_position": {
    "height": "calc(100% - 180px)",
    "left": "10px",
    "top": "150px",
    "width": "189.222px"
   },
   "toc_section_display": true,
   "toc_window_display": true
  },
  "varInspector": {
   "cols": {
    "lenName": 16,
    "lenType": 16,
    "lenVar": 40
   },
   "kernels_config": {
    "python": {
     "delete_cmd_postfix": "",
     "delete_cmd_prefix": "del ",
     "library": "var_list.py",
     "varRefreshCmd": "print(var_dic_list())"
    },
    "r": {
     "delete_cmd_postfix": ") ",
     "delete_cmd_prefix": "rm(",
     "library": "var_list.r",
     "varRefreshCmd": "cat(var_dic_list()) "
    }
   },
   "position": {
    "height": "396.854px",
    "left": "910px",
    "right": "20px",
    "top": "120px",
    "width": "350px"
   },
   "types_to_exclude": [
    "module",
    "function",
    "builtin_function_or_method",
    "instance",
    "_Feature"
   ],
   "window_display": false
  }
 },
 "nbformat": 4,
 "nbformat_minor": 5
}
