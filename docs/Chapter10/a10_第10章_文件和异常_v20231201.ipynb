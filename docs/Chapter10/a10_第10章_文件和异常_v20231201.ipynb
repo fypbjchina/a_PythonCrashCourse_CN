{
 "cells": [
  {
   "cell_type": "markdown",
   "id": "e27a4d82",
   "metadata": {},
   "source": [
    "# Python编程：从入门到实践（第2版）/ 20230323 <a class=\"tocSkip\">"
   ]
  },
  {
   "cell_type": "markdown",
   "id": "f8c90d1e",
   "metadata": {},
   "source": [
    "# 第 10 章　文件和异常 / 20230607 <a class=tocSkip>"
   ]
  },
  {
   "cell_type": "raw",
   "id": "8ee5431c",
   "metadata": {},
   "source": [
    "学习处理文件，让程序能够快速地分析大量数据\n",
    "学习错误处理，避免程序在面对意外情形时崩溃\n",
    "学习异常 ，它们是Python创建的特殊对象，用于管理程序运行时出现的错误\n",
    "学习模块json ，它让你能够保存用户数据，以免在程序停止运行后丢失"
   ]
  },
  {
   "cell_type": "raw",
   "id": "1ffe1b8d",
   "metadata": {
    "notebookRunGroups": {
     "groupValue": ""
    }
   },
   "source": [
    "10.1　从文件中读取数据\n",
    "10.1.1　读取整个文件"
   ]
  },
  {
   "cell_type": "code",
   "execution_count": 11,
   "id": "a792e526",
   "metadata": {},
   "outputs": [
    {
     "name": "stdout",
     "output_type": "stream",
     "text": [
      "  3.1415926535 \n",
      "  8979323846 \n",
      "  2643383279\n"
     ]
    }
   ],
   "source": [
    "# a10_1_1a_file_reader.py\n",
    "# 关键字with在不再需要访问文件后将其关闭 \n",
    "# 函数open()接受一个参数：要打开的文件的名称, 返回一个表示文件的对象，赋值给变量file_object\n",
    "# 方法read()读取这个文件的全部内容，并将其作为一个字符串赋给变量contents\n",
    "# 方法rstrip()删除多出来的空行\n",
    "\n",
    "with open('a10_1_1a_pi_digits.txt') as file_object:\n",
    "    contents = file_object.read()\n",
    "    \n",
    "print(contents.rstrip())"
   ]
  },
  {
   "cell_type": "code",
   "execution_count": 12,
   "id": "bf2abf75",
   "metadata": {},
   "outputs": [
    {
     "name": "stdout",
     "output_type": "stream",
     "text": [
      "  3.1415926535 \n",
      "  8979323846 \n",
      "  2643383279\n"
     ]
    }
   ],
   "source": [
    "file_object = open('a10_1_1a_pi_digits.txt')\n",
    "\n",
    "contents = file_object.read()\n",
    "\n",
    "file_object.close()\n",
    "\n",
    "print(contents.rstrip())"
   ]
  },
  {
   "cell_type": "code",
   "execution_count": 16,
   "id": "bf417323",
   "metadata": {},
   "outputs": [
    {
     "name": "stdout",
     "output_type": "stream",
     "text": [
      "3.1415926535\t\n",
      "x\t\n",
      "y\t\n"
     ]
    }
   ],
   "source": [
    "import openpyxl\n",
    "\n",
    "# Open the Excel file\n",
    "workbook = openpyxl.load_workbook('a10_1_1a_pi_digits.xlsx')\n",
    "\n",
    "# Assuming you want to read from the first sheet\n",
    "sheet = workbook.active\n",
    "\n",
    "# Iterate through rows and print the data\n",
    "for row in sheet.iter_rows():\n",
    "    for cell in row:\n",
    "        print(cell.value, end='\\t')\n",
    "    print()  # Move to the next line for a new row\n",
    "\n",
    "# Close the workbook\n",
    "# workbook.close()"
   ]
  },
  {
   "cell_type": "raw",
   "id": "7a74c959",
   "metadata": {},
   "source": [
    "10.1.2　文件路径\n",
    "a. 相对文件路径\n",
    "b. 绝对文件路径"
   ]
  },
  {
   "cell_type": "code",
   "execution_count": 18,
   "id": "c1be2785",
   "metadata": {},
   "outputs": [
    {
     "name": "stdout",
     "output_type": "stream",
     "text": [
      "3.1415926535 \n",
      "  8979323846 \n",
      "  2643383279\n"
     ]
    }
   ],
   "source": [
    "# a10_1_2a_file_reader.py\n",
    "# 相对文件路径是相对于当前运行的程序所在目录\n",
    "# 显示文件路径Windows系统使用反斜杠(\\),Python中可以使用斜杠(/, \\\\, r'\\')\n",
    "\n",
    "with open('pi/pi_digits.txt') as file_object:\n",
    "    contents = file_object.read()\n",
    "    \n",
    "print(contents.rstrip())"
   ]
  },
  {
   "cell_type": "code",
   "execution_count": 22,
   "id": "3506e7a0",
   "metadata": {},
   "outputs": [
    {
     "name": "stdout",
     "output_type": "stream",
     "text": [
      "3.1415926535 \n",
      "  8979323846 \n",
      "  2643383279\n"
     ]
    }
   ],
   "source": [
    "# a10_1_2b_file_reader.py\n",
    "# 绝对文件路径是文件在计算机中的准确位置\n",
    "\n",
    "with open('./pi/pi_digits.txt') as file_object:\n",
    "    contents = file_object.read()\n",
    "    \n",
    "print(contents.rstrip())"
   ]
  },
  {
   "cell_type": "raw",
   "id": "f7bfcb4a",
   "metadata": {},
   "source": [
    "10.1.3　逐行读取\n",
    "要以每次一行的方式检查文件，可对文件对象使用for 循环"
   ]
  },
  {
   "cell_type": "code",
   "execution_count": 25,
   "id": "b211133b",
   "metadata": {},
   "outputs": [
    {
     "name": "stdout",
     "output_type": "stream",
     "text": [
      "3.1415926535\n",
      "8979323846\n",
      "2643383279\n"
     ]
    }
   ],
   "source": [
    "# a10_1_3_file_reader.py\n",
    "# 赋值变量filename，表示文件位置的字符串\n",
    "# for循环遍历文件对象file_object的每一行\n",
    "\n",
    "filename = 'pi/pi_digits.txt'\n",
    "\n",
    "with open(filename) as file_object:\n",
    "    for line in file_object:\n",
    "        # print(line)\n",
    "        print(line.strip()) # 方法rstrip()删除多出来的空行"
   ]
  },
  {
   "cell_type": "raw",
   "id": "e58634c7",
   "metadata": {},
   "source": [
    "10.1.4　创建一个包含文件各行内容的列表"
   ]
  },
  {
   "cell_type": "code",
   "execution_count": 26,
   "id": "37f263f5",
   "metadata": {},
   "outputs": [
    {
     "name": "stdout",
     "output_type": "stream",
     "text": [
      "  3.1415926535\n",
      "  8979323846\n",
      "  2643383279\n"
     ]
    },
    {
     "data": {
      "text/plain": [
       "['  3.1415926535 \\n', '  8979323846 \\n', '  2643383279\\n']"
      ]
     },
     "execution_count": 26,
     "metadata": {},
     "output_type": "execute_result"
    }
   ],
   "source": [
    "# a10_1_4_file_reader.py\n",
    "# 方法readlines()读取文件每一行，存储到列表lines\n",
    "# for循环遍历列表lines的每一行line\n",
    "\n",
    "filename = 'a10_1_1a_pi_digits.txt' # or 'pi/pi_digits.txt'\n",
    "\n",
    "with open(filename) as file_object:\n",
    "    lines = file_object.readlines()\n",
    "    \n",
    "for line in lines:\n",
    "    print(line.rstrip())\n",
    "\n",
    "lines"
   ]
  },
  {
   "cell_type": "markdown",
   "id": "0c90934e",
   "metadata": {},
   "source": [
    "10.1.5　使用文件的内容"
   ]
  },
  {
   "cell_type": "code",
   "execution_count": 9,
   "id": "30a4fb19",
   "metadata": {},
   "outputs": [
    {
     "name": "stdout",
     "output_type": "stream",
     "text": [
      "3.1415926535  8979323846  2643383279\n",
      "36\n"
     ]
    }
   ],
   "source": [
    "# a10_1_5_file_reader.py\n",
    "# 方法readlines()读取文件每一行，存储到列表lines\n",
    "# for循环遍历列表lines的每一行line\n",
    "# rstrip()删除每行末尾的换行符\n",
    "# strip()删除每行左边的空格\n",
    "\n",
    "filename = 'a10_1_1a_pi_digits.txt' # or 'pi/pi_digits.txt'\n",
    "\n",
    "with open(filename) as file_object:\n",
    "    lines = file_object.readlines()\n",
    "\n",
    "pi_string = ''\n",
    "for line in lines:\n",
    "    pi_string += line.rstrip() # or lstrip(), strip()\n",
    "\n",
    "print(pi_string)\n",
    "print(len(pi_string))"
   ]
  },
  {
   "cell_type": "raw",
   "id": "ac0e75e6",
   "metadata": {},
   "source": [
    "10.1.6　包含一百万位的大型文件"
   ]
  },
  {
   "cell_type": "code",
   "execution_count": 10,
   "id": "ecbec5c4",
   "metadata": {},
   "outputs": [
    {
     "name": "stdout",
     "output_type": "stream",
     "text": [
      "3.14159265358979323846264338327950288419716939937510...\n",
      "1000002\n"
     ]
    }
   ],
   "source": [
    "# a10_1_6_file_reader.py\n",
    "# 处理小数点后1 000 000位的圆周率值\n",
    "\n",
    "filename = 'a10_1_6_pi_million_digits.txt' # or 'pi/pi_million_digits.txt'\n",
    "\n",
    "with open(filename) as file_object:\n",
    "    lines = file_object.readlines()\n",
    "\n",
    "pi_string = ''\n",
    "for line in lines:\n",
    "    pi_string += line.strip()\n",
    "\n",
    "print(f\"{pi_string[:52]}...\")\n",
    "print(len(pi_string))"
   ]
  },
  {
   "cell_type": "raw",
   "id": "7f2f564c",
   "metadata": {},
   "source": [
    "10.1.7　圆周率值中包含你的生日吗"
   ]
  },
  {
   "cell_type": "code",
   "execution_count": 11,
   "id": "5175c843",
   "metadata": {},
   "outputs": [
    {
     "name": "stdout",
     "output_type": "stream",
     "text": [
      "3.14159265358979323846264338327950288419716939937510...\n",
      "1000002\n"
     ]
    }
   ],
   "source": [
    "# a10_1_7_file_reader.py\n",
    "# 检查生日mmddyy是否包含在圆周率值的前1 000 000位中\n",
    "\n",
    "filename = 'a10_1_6_pi_million_digits.txt' # or 'pi/pi_million_digits.txt'\n",
    "\n",
    "with open(filename) as file_object:\n",
    "    lines = file_object.readlines()\n",
    "\n",
    "pi_string = ''\n",
    "for line in lines:\n",
    "    pi_string += line.strip()\n",
    "\n",
    "print(f\"{pi_string[:52]}...\")\n",
    "print(len(pi_string))\n",
    "\n",
    "birthday = input(\"Enter your birthday, in the form mmddyy:\\t\")\n",
    "\n",
    "if birthday in pi_string:\n",
    "    print(\"Your birthday appears in the first million digits of pi!\")\n",
    "else:\n",
    "    print(\"Your birthday does not appear in the first million digits of pi.\")"
   ]
  },
  {
   "cell_type": "raw",
   "id": "335ceda5",
   "metadata": {},
   "source": [
    "练习10-1：Python学习笔记 　在文本编辑器中新建一个文件，\n",
    "写几句话来总结一下你至此学到的Python知识，其中每一行都以“In Python you can”打头。\n",
    "将这个文件命名为learning_python.txt，并存储到为完成本章练习而编写的程序所在的目录中。\n",
    "编写一个程序，它读取这个文件，并将你所写的内容打印三次：\n",
    "第一次打印时读取整个文件；第二次打印时遍历文件对象；\n",
    "第三次打印时将各行存储在一个列表中，再在with 代码块外打印它们。"
   ]
  },
  {
   "cell_type": "raw",
   "id": "4842f2dc",
   "metadata": {},
   "source": [
    "练习10-2：C语言学习笔记 　可使用方法replace() 将字符串中的特定单词都替换为另一个单词。\n",
    "下面是一个简单的示例，演示了如何将句子中的'dog'替换为'cat' ：\n",
    ">>> message = \"I really like dogs.\"\n",
    ">>> message.replace('dog', 'cat')\n",
    "'I really like cats.'\n",
    "读取你刚创建的文件learning_python.txt中的每一行，将其中的Python都替换为另一门语言的名称，比如C。\n",
    "将修改后的各行都打印到屏幕上。"
   ]
  },
  {
   "cell_type": "raw",
   "id": "77c076ad",
   "metadata": {},
   "source": [
    "10.2　写入文件\n",
    "10.2.1　写入空文件"
   ]
  },
  {
   "cell_type": "code",
   "execution_count": 28,
   "id": "c0522313",
   "metadata": {},
   "outputs": [],
   "source": [
    "# a10_2_1_file_writer.py\n",
    "# 调用open() 时提供了两个实参: 文件名，读/写模式\n",
    "# 指定读取模式 ('r'),写入模式('w'), 附加模式('a')或读写模式('r+')\n",
    "# 'w' 模式会覆盖原有文件内容\n",
    "# Python只能将字符串写入文本文件, 数值数据必须先使用函数str()将其转换为字符串格式\n",
    "\n",
    "filename = 'a10_2_1_python_beginner.txt'\n",
    "\n",
    "with open(filename, 'w') as file_object:\n",
    "    file_object.write(\"Hello, Python Beginner!\")"
   ]
  },
  {
   "cell_type": "code",
   "execution_count": 30,
   "id": "0695a40b",
   "metadata": {},
   "outputs": [],
   "source": [
    "# 数值数据写入\n",
    "filename = 'a10_2_1_digit.txt'\n",
    "\n",
    "with open(filename, 'w') as file_object:\n",
    "    file_object.write(str(123))"
   ]
  },
  {
   "cell_type": "code",
   "execution_count": 31,
   "id": "b42b0bba",
   "metadata": {},
   "outputs": [
    {
     "data": {
      "text/plain": [
       "str"
      ]
     },
     "execution_count": 31,
     "metadata": {},
     "output_type": "execute_result"
    }
   ],
   "source": [
    "with open('a10_2_1_digit.txt') as file_object:\n",
    "    contents = file_object.read()\n",
    "\n",
    "type(contents)"
   ]
  },
  {
   "cell_type": "raw",
   "id": "393ee9e8",
   "metadata": {},
   "source": [
    "10.2.2　写入多行"
   ]
  },
  {
   "cell_type": "code",
   "execution_count": 32,
   "id": "cfd1d30e",
   "metadata": {},
   "outputs": [],
   "source": [
    "# a10_2_2_file_writer.py\n",
    "# 函数write() 不会在写入的文本末尾添加换行符\n",
    "# 空格、制表符\\t和空行\\n来设置这些输出的格式\n",
    "\n",
    "filename = 'a10_2_1_python_beginner.txt'\n",
    "\n",
    "with open(filename, 'w') as file_object:\n",
    "    file_object.write(\"------Python Beginner------\")\n",
    "    file_object.write(\"\\nHello, Python Beginner!\")\n",
    "    file_object.write(\"\\nWelcome to the Python world!\")"
   ]
  },
  {
   "cell_type": "raw",
   "id": "5f93922f",
   "metadata": {},
   "source": [
    "10.2.3　附加到文件\n",
    "文件添加内容，而不是覆盖原有的内容，可以以附加模式'a'打开文件"
   ]
  },
  {
   "cell_type": "code",
   "execution_count": 33,
   "id": "86103886",
   "metadata": {},
   "outputs": [],
   "source": [
    "# a10_2_3_file_writer.py\n",
    "# 写入模式'w'会覆盖原有文件内容，附加模式'a'只添加不覆盖文件内容\n",
    "\n",
    "filename = 'a10_2_1_python_beginner.txt'\n",
    "\n",
    "with open(filename, 'a') as file_object:\n",
    "    file_object.write(\"\\n\\n------Adding Information------\")\n",
    "    file_object.write(\"\\nI love using Python to learn Math.\")"
   ]
  },
  {
   "cell_type": "raw",
   "id": "39c4b408",
   "metadata": {},
   "source": [
    "练习10-3：访客 　编写一个程序，提示用户输入名字。\n",
    "用户做出响应后，将其名字写入文件guest.txt中。"
   ]
  },
  {
   "cell_type": "raw",
   "id": "ae16f674",
   "metadata": {},
   "source": [
    "练习10-4：访客名单 　编写一个while 循环，提示用户输入名字。\n",
    "用户输入名字后，在屏幕上打印一句问候语，并将一条到访记录添加到文件guest_book.txt中。\n",
    "确保这个文件中的每条记录都独占一行。"
   ]
  },
  {
   "cell_type": "raw",
   "id": "de7ba1ab",
   "metadata": {},
   "source": [
    "练习10-5：调查 　编写一个while 循环，询问用户为何喜欢编程。\n",
    "每当用户输入一个原因后，都将其添加到一个存储所有原因的文件中。"
   ]
  },
  {
   "cell_type": "raw",
   "id": "202fb61f",
   "metadata": {},
   "source": [
    "10.3　异常\n",
    "Python使用称为异常 的特殊对象来管理程序执行期间发生的错误\n",
    "使用try-except 代码块处理异常"
   ]
  },
  {
   "cell_type": "code",
   "execution_count": null,
   "id": "0537b652",
   "metadata": {},
   "outputs": [],
   "source": [
    "10.3.1　处理ZeroDivisionError异常"
   ]
  },
  {
   "cell_type": "code",
   "execution_count": 34,
   "id": "56a1a9be",
   "metadata": {},
   "outputs": [
    {
     "ename": "ZeroDivisionError",
     "evalue": "division by zero",
     "output_type": "error",
     "traceback": [
      "\u001b[1;31m---------------------------------------------------------------------------\u001b[0m",
      "\u001b[1;31mZeroDivisionError\u001b[0m                         Traceback (most recent call last)",
      "\u001b[1;32mb:\\04_Beginner\\01_GitHub\\fypbjchina2023\\a_PythonCrashCourse\\Chapter10\\a10_第10章_文件和异常_v20231201.ipynb Cell 36\u001b[0m line \u001b[0;36m4\n\u001b[0;32m      <a href='vscode-notebook-cell:/b%3A/04_Beginner/01_GitHub/fypbjchina2023/a_PythonCrashCourse/Chapter10/a10_%E7%AC%AC10%E7%AB%A0_%E6%96%87%E4%BB%B6%E5%92%8C%E5%BC%82%E5%B8%B8_v20231201.ipynb#Y211sZmlsZQ%3D%3D?line=0'>1</a>\u001b[0m \u001b[39m# a10_3_1_error_ZeroDivision.py\u001b[39;00m\n\u001b[0;32m      <a href='vscode-notebook-cell:/b%3A/04_Beginner/01_GitHub/fypbjchina2023/a_PythonCrashCourse/Chapter10/a10_%E7%AC%AC10%E7%AB%A0_%E6%96%87%E4%BB%B6%E5%92%8C%E5%BC%82%E5%B8%B8_v20231201.ipynb#Y211sZmlsZQ%3D%3D?line=1'>2</a>\u001b[0m \u001b[39m# ZeroDivisionError是个异常对象\u001b[39;00m\n\u001b[1;32m----> <a href='vscode-notebook-cell:/b%3A/04_Beginner/01_GitHub/fypbjchina2023/a_PythonCrashCourse/Chapter10/a10_%E7%AC%AC10%E7%AB%A0_%E6%96%87%E4%BB%B6%E5%92%8C%E5%BC%82%E5%B8%B8_v20231201.ipynb#Y211sZmlsZQ%3D%3D?line=3'>4</a>\u001b[0m \u001b[39mprint\u001b[39m(\u001b[39m5\u001b[39m\u001b[39m/\u001b[39m\u001b[39m0\u001b[39m)\n",
      "\u001b[1;31mZeroDivisionError\u001b[0m: division by zero"
     ]
    }
   ],
   "source": [
    "# a10_3_1_error_ZeroDivision.py\n",
    "# ZeroDivisionError是个异常对象\n",
    "\n",
    "print(5/0)"
   ]
  },
  {
   "cell_type": "raw",
   "id": "1f20ace9",
   "metadata": {},
   "source": [
    "10.3.2　使用try-except 代码块"
   ]
  },
  {
   "cell_type": "code",
   "execution_count": 35,
   "id": "e70ff358",
   "metadata": {},
   "outputs": [
    {
     "name": "stdout",
     "output_type": "stream",
     "text": [
      "You can't divide by zero!\n"
     ]
    }
   ],
   "source": [
    "# a10_3_2_error_ZeroDivision.py\n",
    "# ZeroDivisionError是个异常对象\n",
    "# 使用try-except代码块处理异常\n",
    "\n",
    "try:\n",
    "    print(5/0)\n",
    "except ZeroDivisionError:\n",
    "    print(\"You can't divide by zero!\")"
   ]
  },
  {
   "cell_type": "raw",
   "id": "626d09ad",
   "metadata": {},
   "source": [
    "10.3.3　使用异常避免崩溃\n",
    "这种情况经常会出现在要求用户提供输入的程序中；\n",
    "如果程序能够妥善地处理无效输入，就能再提示用户提供有效输入，而不至于崩溃。"
   ]
  },
  {
   "cell_type": "code",
   "execution_count": null,
   "id": "28179c61",
   "metadata": {},
   "outputs": [
    {
     "name": "stdout",
     "output_type": "stream",
     "text": [
      "Give me two numbers, and I'll divide them.\n",
      "Enter 'q' to quit.\n"
     ]
    }
   ],
   "source": [
    "# a10_3_3_error_ZeroDivision.py\n",
    "# 执行除数为0的除法运算时,程序没有采取任何处理错误的措施,它将崩溃\n",
    "\n",
    "print(\"Give me two numbers, and I'll divide them.\")\n",
    "print(\"Enter 'q' to quit.\")\n",
    "\n",
    "while True:\n",
    "    first_number = input(\"\\nFirst number: \")\n",
    "    if first_number == 'q':\n",
    "        break\n",
    "    second_number = input(\"Second number: \")\n",
    "    if second_number == 'q':\n",
    "        break\n",
    "    answer = int(first_number) / int(second_number)\n",
    "    print(answer)"
   ]
  },
  {
   "cell_type": "code",
   "execution_count": null,
   "id": "6cf71f08",
   "metadata": {},
   "outputs": [],
   "source": [
    "10.3.4　else 代码块"
   ]
  },
  {
   "cell_type": "code",
   "execution_count": null,
   "id": "40678342",
   "metadata": {},
   "outputs": [
    {
     "name": "stdout",
     "output_type": "stream",
     "text": [
      "Give me two numbers, and I'll divide them.\n",
      "Enter 'q' to quit.\n",
      "\n",
      "First number: 5\n",
      "Second number: 0\n",
      "You can't divide by zero!\n",
      "\n",
      "First number: 5\n",
      "Second number: 3\n",
      "1.6666666666666667\n",
      "\n",
      "First number: 5\n",
      "Second number: q\n"
     ]
    }
   ],
   "source": [
    "# a10_3_4_error_ZeroDivision.py\n",
    "# if- try-except -else 代码块处理异常\n",
    "\n",
    "print(\"Give me two numbers, and I'll divide them.\")\n",
    "print(\"Enter 'q' to quit.\")\n",
    "\n",
    "while True:\n",
    "    first_number = input(\"\\nFirst number: \")\n",
    "    if first_number == 'q':\n",
    "        break\n",
    "    second_number = input(\"Second number: \")\n",
    "    if second_number == 'q':\n",
    "        break\n",
    "    try:\n",
    "        answer = int(first_number) / int(second_number)\n",
    "    except ZeroDivisionError:\n",
    "        print(\"You can't divide by zero!\")\n",
    "    else:\n",
    "        print(answer)"
   ]
  },
  {
   "cell_type": "code",
   "execution_count": null,
   "id": "28ed3191",
   "metadata": {},
   "outputs": [],
   "source": [
    "10.3.5　处理FileNotFoundError 异常"
   ]
  },
  {
   "cell_type": "code",
   "execution_count": null,
   "id": "4b5e8558",
   "metadata": {},
   "outputs": [
    {
     "ename": "FileNotFoundError",
     "evalue": "[Errno 2] No such file or directory: 'alice.txt'",
     "output_type": "error",
     "traceback": [
      "\u001b[1;31m---------------------------------------------------------------------------\u001b[0m",
      "\u001b[1;31mFileNotFoundError\u001b[0m                         Traceback (most recent call last)",
      "\u001b[1;32mb:\\04_Beginner\\01_GitHub\\fypbjchina2023\\a_PythonCrashCourse\\Chapter10\\a10_第10章_文件和异常_v20231201.ipynb Cell 43\u001b[0m line \u001b[0;36m6\n\u001b[0;32m      <a href='vscode-notebook-cell:/b%3A/04_Beginner/01_GitHub/fypbjchina2023/a_PythonCrashCourse/Chapter10/a10_%E7%AC%AC10%E7%AB%A0_%E6%96%87%E4%BB%B6%E5%92%8C%E5%BC%82%E5%B8%B8_v20231201.ipynb#X55sZmlsZQ%3D%3D?line=0'>1</a>\u001b[0m \u001b[39m# a10_3_5a_error_FileNotFound.py\u001b[39;00m\n\u001b[0;32m      <a href='vscode-notebook-cell:/b%3A/04_Beginner/01_GitHub/fypbjchina2023/a_PythonCrashCourse/Chapter10/a10_%E7%AC%AC10%E7%AB%A0_%E6%96%87%E4%BB%B6%E5%92%8C%E5%BC%82%E5%B8%B8_v20231201.ipynb#X55sZmlsZQ%3D%3D?line=1'>2</a>\u001b[0m \u001b[39m# FileNotFoundError是Python找不到要打开的文件时创建的异常\u001b[39;00m\n\u001b[0;32m      <a href='vscode-notebook-cell:/b%3A/04_Beginner/01_GitHub/fypbjchina2023/a_PythonCrashCourse/Chapter10/a10_%E7%AC%AC10%E7%AB%A0_%E6%96%87%E4%BB%B6%E5%92%8C%E5%BC%82%E5%B8%B8_v20231201.ipynb#X55sZmlsZQ%3D%3D?line=3'>4</a>\u001b[0m filename \u001b[39m=\u001b[39m \u001b[39m'\u001b[39m\u001b[39malice.txt\u001b[39m\u001b[39m'\u001b[39m \u001b[39m# book/alice.txt\u001b[39;00m\n\u001b[1;32m----> <a href='vscode-notebook-cell:/b%3A/04_Beginner/01_GitHub/fypbjchina2023/a_PythonCrashCourse/Chapter10/a10_%E7%AC%AC10%E7%AB%A0_%E6%96%87%E4%BB%B6%E5%92%8C%E5%BC%82%E5%B8%B8_v20231201.ipynb#X55sZmlsZQ%3D%3D?line=5'>6</a>\u001b[0m \u001b[39mwith\u001b[39;00m \u001b[39mopen\u001b[39m(filename, encoding\u001b[39m=\u001b[39m\u001b[39m'\u001b[39m\u001b[39mutf-8\u001b[39m\u001b[39m'\u001b[39m) \u001b[39mas\u001b[39;00m f:\n\u001b[0;32m      <a href='vscode-notebook-cell:/b%3A/04_Beginner/01_GitHub/fypbjchina2023/a_PythonCrashCourse/Chapter10/a10_%E7%AC%AC10%E7%AB%A0_%E6%96%87%E4%BB%B6%E5%92%8C%E5%BC%82%E5%B8%B8_v20231201.ipynb#X55sZmlsZQ%3D%3D?line=6'>7</a>\u001b[0m     contents \u001b[39m=\u001b[39mf\u001b[39m.\u001b[39mread()\n",
      "File \u001b[1;32mc:\\Users\\fuy3pk\\.conda\\envs\\fyp2023\\Lib\\site-packages\\IPython\\core\\interactiveshell.py:286\u001b[0m, in \u001b[0;36m_modified_open\u001b[1;34m(file, *args, **kwargs)\u001b[0m\n\u001b[0;32m    279\u001b[0m \u001b[39mif\u001b[39;00m file \u001b[39min\u001b[39;00m {\u001b[39m0\u001b[39m, \u001b[39m1\u001b[39m, \u001b[39m2\u001b[39m}:\n\u001b[0;32m    280\u001b[0m     \u001b[39mraise\u001b[39;00m \u001b[39mValueError\u001b[39;00m(\n\u001b[0;32m    281\u001b[0m         \u001b[39mf\u001b[39m\u001b[39m\"\u001b[39m\u001b[39mIPython won\u001b[39m\u001b[39m'\u001b[39m\u001b[39mt let you open fd=\u001b[39m\u001b[39m{\u001b[39;00mfile\u001b[39m}\u001b[39;00m\u001b[39m by default \u001b[39m\u001b[39m\"\u001b[39m\n\u001b[0;32m    282\u001b[0m         \u001b[39m\"\u001b[39m\u001b[39mas it is likely to crash IPython. If you know what you are doing, \u001b[39m\u001b[39m\"\u001b[39m\n\u001b[0;32m    283\u001b[0m         \u001b[39m\"\u001b[39m\u001b[39myou can use builtins\u001b[39m\u001b[39m'\u001b[39m\u001b[39m open.\u001b[39m\u001b[39m\"\u001b[39m\n\u001b[0;32m    284\u001b[0m     )\n\u001b[1;32m--> 286\u001b[0m \u001b[39mreturn\u001b[39;00m io_open(file, \u001b[39m*\u001b[39margs, \u001b[39m*\u001b[39m\u001b[39m*\u001b[39mkwargs)\n",
      "\u001b[1;31mFileNotFoundError\u001b[0m: [Errno 2] No such file or directory: 'alice.txt'"
     ]
    }
   ],
   "source": [
    "# a10_3_5a_error_FileNotFound.py\n",
    "# FileNotFoundError是Python找不到要打开的文件时创建的异常\n",
    "\n",
    "filename = 'alice.txt' # book/alice.txt\n",
    "\n",
    "with open(filename, encoding='utf-8') as f:\n",
    "    contents =f.read()"
   ]
  },
  {
   "cell_type": "code",
   "execution_count": null,
   "id": "722bbf02",
   "metadata": {},
   "outputs": [
    {
     "name": "stdout",
     "output_type": "stream",
     "text": [
      "Sorry, the file alice.txt does not exist.\n"
     ]
    }
   ],
   "source": [
    "# a10_3_5b_error_FileNotFound.py\n",
    "# FileNotFoundError是Python找不到要打开的文件时创建的异常\n",
    "# try-except代码块处理FileNotFoundError异常对象\n",
    "\n",
    "filename = 'alice.txt' # book/alice.txt\n",
    "\n",
    "try:\n",
    "    with open(filename, encoding='utf-8') as f:\n",
    "        contents =f.read()\n",
    "except FileNotFoundError:\n",
    "    print(f\"Sorry, the file {filename} does not exist.\")"
   ]
  },
  {
   "cell_type": "code",
   "execution_count": null,
   "id": "db9cab01",
   "metadata": {},
   "outputs": [],
   "source": [
    "10.3.6　分析文本"
   ]
  },
  {
   "cell_type": "code",
   "execution_count": null,
   "id": "65f30278",
   "metadata": {},
   "outputs": [
    {
     "data": {
      "text/plain": [
       "['Alice', 'in', 'Wonderland']"
      ]
     },
     "execution_count": 31,
     "metadata": {},
     "output_type": "execute_result"
    }
   ],
   "source": [
    "# a10_3_6a_error_FileNotFound.py\n",
    "# 方法split()以空格为分隔符将字符串分拆成多个部分,并将这些部分存储到列表中\n",
    "\n",
    "title = 'Alice in Wonderland'\n",
    "title.split()"
   ]
  },
  {
   "cell_type": "code",
   "execution_count": null,
   "id": "870b4626",
   "metadata": {},
   "outputs": [
    {
     "name": "stdout",
     "output_type": "stream",
     "text": [
      "The file book/alice.txt has about 29465 words.\n"
     ]
    }
   ],
   "source": [
    "# a10_3_6b_error_FileNotFound.py\n",
    "# 方法split()以空格为分隔符将字符串分拆成多个部分,并将这些部分存储到列表中\n",
    "# try-except-else 代码块\n",
    "\n",
    "filename = 'book/alice.txt' # book/alice.txt\n",
    "\n",
    "try:\n",
    "    with open(filename, encoding='utf-8') as f:\n",
    "        contents =f.read()\n",
    "except FileNotFoundError:\n",
    "    print(f\"Sorry, the file {filename} does not exist.\")\n",
    "else:\n",
    "    # 计算该文件大致包含多少个单词\n",
    "    words = contents.split()\n",
    "    num_words = len(words)\n",
    "    print(f\"The file {filename} has about {num_words} words.\")"
   ]
  },
  {
   "cell_type": "raw",
   "id": "ff434a02",
   "metadata": {},
   "source": [
    "10.3.7　使用多个文件"
   ]
  },
  {
   "cell_type": "code",
   "execution_count": null,
   "id": "c6d17785",
   "metadata": {},
   "outputs": [
    {
     "name": "stdout",
     "output_type": "stream",
     "text": [
      "The file book/alice.txt has about 29465 words.\n"
     ]
    }
   ],
   "source": [
    "# a10_3_7a.py\n",
    "# 调用函数count_words()用于计算文件包含的单词数量\n",
    "\n",
    "import a10_3_7_f_count_words as a10_3_7_f\n",
    "\n",
    "filename = 'book/alice.txt'\n",
    "a10_3_7_f.count_words(filename)"
   ]
  },
  {
   "cell_type": "code",
   "execution_count": null,
   "id": "68469edf",
   "metadata": {},
   "outputs": [
    {
     "name": "stdout",
     "output_type": "stream",
     "text": [
      "The file book/alice.txt has about 29465 words.\n",
      "Sorry, the file siddhartha.txt does not exist.\n",
      "The file book/moby_dick.txt has about 215830 words.\n"
     ]
    }
   ],
   "source": [
    "# a10_3_7b.py\n",
    "# 调用函数count_words(),for循环处理多个文件\n",
    "\n",
    "import a10_3_7_f_count_words as a10_3_7_f\n",
    "\n",
    "filenames = ['book/alice.txt', 'siddhartha.txt', 'book/moby_dick.txt']\n",
    "for filename in filenames:\n",
    "    a10_3_7_f.count_words(filename)"
   ]
  },
  {
   "cell_type": "raw",
   "id": "826b7279",
   "metadata": {},
   "source": [
    "10.3.8　静默失败 - pass\n",
    "pass 语句还充当了占位符，提醒你在程序的某个地方什么都没有做，\n",
    "并且以后也许要在这里做些什么"
   ]
  },
  {
   "cell_type": "code",
   "execution_count": null,
   "id": "8fb0a7ad",
   "metadata": {},
   "outputs": [
    {
     "name": "stdout",
     "output_type": "stream",
     "text": [
      "The file book/alice.txt has about 29465 words.\n",
      "The file book/moby_dick.txt has about 215830 words.\n"
     ]
    }
   ],
   "source": [
    "# a10_3_8.py\n",
    "# 调用函数count_words(),for循环处理多个文件\n",
    "# 第二个文件无法找到，pass静默失败\n",
    "\n",
    "import a10_3_8_f_count_words as a10_3_8_f\n",
    "\n",
    "filenames = ['book/alice.txt', 'siddhartha.txt', 'book/moby_dick.txt']\n",
    "for filename in filenames:\n",
    "    a10_3_8_f.count_words(filename)"
   ]
  },
  {
   "cell_type": "raw",
   "id": "a48dc1fc",
   "metadata": {},
   "source": [
    "10.3.9　决定报告哪些错误"
   ]
  },
  {
   "cell_type": "raw",
   "id": "f28ad636",
   "metadata": {},
   "source": [
    "练习10-6：加法运算 　提示用户提供数值输入时，常出现的一个问题是，用户提供的是文本而不是数。\n",
    "在此情况下，当你尝试将输入转换为整数时，将引发ValueError 异常。\n",
    "编写一个程序，提示用户输入两个数，再将其相加并打印结果。\n",
    "在用户输入的任何一个值不是数时都捕获ValueError 异常，并打印一条友好的错误消息。\n",
    "对你编写的程序进行测试：先输入两个数，再输入一些文本而不是数。"
   ]
  },
  {
   "cell_type": "raw",
   "id": "a6f5701d",
   "metadata": {},
   "source": [
    "练习10-7：加法计算器 　将为完成练习10-6而编写的代码放在一个while 循环中，\n",
    "让用户犯错（输入的是文本而不是数）后能够继续输入数。"
   ]
  },
  {
   "cell_type": "raw",
   "id": "b0185ff7",
   "metadata": {},
   "source": [
    "练习10-8：猫和狗 　创建文件cats.txt和dogs.txt，在第一个文件中至少存储三只猫的名字，在第二个文件中至少存储三条狗的名字。\n",
    "编写一个程序，尝试读取这些文件，并将其内容打印到屏幕上。\n",
    "将这些代码放在一个try-except代码块中，以便在文件不存在时捕获FileNotFound 错误，并显示一条友好的消息。\n",
    "将任意一个文件移到另一个地方，并确认except 代码块中的代码将正确执行。"
   ]
  },
  {
   "cell_type": "raw",
   "id": "de03d786",
   "metadata": {},
   "source": [
    "练习10-9：静默的猫和狗 　修改你在练习10-8中编写的except 代码块，让程序在任意文件不存在时静默失败。"
   ]
  },
  {
   "cell_type": "raw",
   "id": "7370e16c",
   "metadata": {},
   "source": [
    "练习10-10：常见单词 　访问古登堡计划，找一些你想分析的图书。\n",
    "下载这些作品的文本文件或将浏览器中的原始文本复制到文本文件中。\n",
    "可以使用方法count() 来确定特定的单词或短语在字符串中出现了多少次。\n",
    "例如，下面的代码计算'row' 在一个字符串中出现了多少次：\n",
    ">>> line = \"Row, row, row your boat\"\n",
    ">>> line.count('row')\n",
    "2\n",
    ">>> line.lower().count('row')\n",
    "3\n",
    "请注意，通过使用lower() 将字符串转换为小写，可捕捉要查找单词的所有格式，而不管其大小写如何。\n",
    "编写一个程序，它读取你在古登堡计划中获取的文件，并计算单词'the' 在每个文件中分别出现了多少次。\n",
    "这里计算得到的结果并不准确，因为将诸如'then' 和'there' 等单词也计算在内了。\n",
    "请尝试计算'the ' （包含空格）出现的次数，看看结果相差多少。"
   ]
  },
  {
   "cell_type": "raw",
   "id": "7b187404",
   "metadata": {},
   "source": [
    "10.4　存储数据\n",
    "JSON（JavaScript Object Notation）,使用模块json 来存储数据\n",
    "JSON数据格式并非Python专用的，这让你能够将以JSON格式存储的数据与使用其他编程语言的人分享"
   ]
  },
  {
   "cell_type": "raw",
   "id": "b03bff3f",
   "metadata": {},
   "source": [
    "10.4.1　使用json.dump() 和json.load()"
   ]
  },
  {
   "cell_type": "code",
   "execution_count": null,
   "id": "f23bc197",
   "metadata": {},
   "outputs": [
    {
     "name": "stdout",
     "output_type": "stream",
     "text": [
      "Numbers list:\t[10, 20, 30, 40, 50]\n",
      "Numbers.json:\t[10, 20, 30, 40, 50]\n"
     ]
    }
   ],
   "source": [
    "# a10_4_1a_number_writer.py\n",
    "# 导入模块json\n",
    "# 存储数据调用dump()函数，两个实参：数据，文件对象\n",
    "\n",
    "import json\n",
    "\n",
    "numbers = [10, 20, 30, 40, 50]\n",
    "print(f\"Numbers list:\\t{numbers}\")\n",
    "\n",
    "filename = 'a10_4_1_numbers.json'\n",
    "with open(filename, 'w') as f:\n",
    "    json.dump(numbers, f)\n",
    "    \n",
    "with open(filename) as f:\n",
    "    contents = f.read()\n",
    "    print(f\"Numbers.json:\\t{contents}\")"
   ]
  },
  {
   "cell_type": "code",
   "execution_count": null,
   "id": "9b217f2e",
   "metadata": {},
   "outputs": [
    {
     "name": "stdout",
     "output_type": "stream",
     "text": [
      "[10, 20, 30, 40, 50]\n"
     ]
    }
   ],
   "source": [
    "# a10_4_1b_number_reader.py\n",
    "# 导入模块json\n",
    "# 读取数据调用load()函数，一个实参：文件对象\n",
    "\n",
    "import json\n",
    "\n",
    "filename = 'a10_4_1_numbers.json'\n",
    "with open(filename) as f:\n",
    "    num_list = json.load(f)\n",
    "\n",
    "print(num_list) "
   ]
  },
  {
   "cell_type": "raw",
   "id": "2f541c96",
   "metadata": {},
   "source": [
    "10.4.2　保存和读取用户生成的数据"
   ]
  },
  {
   "cell_type": "code",
   "execution_count": null,
   "id": "8e64d09b",
   "metadata": {},
   "outputs": [
    {
     "name": "stdout",
     "output_type": "stream",
     "text": [
      "Please enter your username or your name:\n"
     ]
    }
   ],
   "source": [
    "# a10_4_2a_dump_usernames.py\n",
    "# json.dump()存储用户名\n",
    "\n",
    "import json\n",
    "\n",
    "# 用户输入用户名或名字\n",
    "print(\"Please enter your username or your name:\")\n",
    "username = input(\"Login:\\t\")\n",
    "\n",
    "filename = 'a10_4_2_usernames.json'\n",
    "with open(filename, 'w') as f:\n",
    "    json.dump(username, f) # 函数dump()\n",
    "    print(f\"Welcome to login Python-Beginner, {username}!\")\n",
    "    # print(f.read())"
   ]
  },
  {
   "cell_type": "code",
   "execution_count": null,
   "id": "a58d8710",
   "metadata": {},
   "outputs": [
    {
     "name": "stdout",
     "output_type": "stream",
     "text": [
      "Welcome to login Python-Beginner, 123asd!\n"
     ]
    }
   ],
   "source": [
    "# a10_4_2b_load_usernames.py\n",
    "# json.load()加载用户名\n",
    "\n",
    "import json\n",
    "\n",
    "filename = 'a10_4_2_usernames.json'\n",
    "with open(filename) as f:\n",
    "    username = json.load(f) # 函数load()\n",
    "    print(f\"Welcome to login Python-Beginner, {username}!\")"
   ]
  },
  {
   "cell_type": "code",
   "execution_count": null,
   "id": "a634d9a1",
   "metadata": {},
   "outputs": [
    {
     "name": "stdout",
     "output_type": "stream",
     "text": [
      "Welcome back, fuy3pk!\n"
     ]
    }
   ],
   "source": [
    "# a10_4_2c_remember_username.py\n",
    "# json.load(), dump()加载/存储用户名\n",
    "# try-except处理异常\n",
    "\n",
    "import json\n",
    "# 如果以前存储了用户名，就加载它。\n",
    "# 否则，提示用户输入用户名并存储它。\n",
    "\n",
    "filename = 'a10_4_2_username.json'\n",
    "try:\n",
    "    with open(filename) as f:\n",
    "        username = json.load(f) # 函数load()\n",
    "except FileNotFoundError:\n",
    "    print(\"Please enter your username or your name:\")\n",
    "    username = input(\"Login:\\t\")    \n",
    "    with open(filename, 'w') as f:\n",
    "        json.dump(username, f)\n",
    "        print(f\"Welcome to login Python-Beginner, {username}!\")\n",
    "else:\n",
    "    print(f\"Welcome back, {username}!\")"
   ]
  },
  {
   "cell_type": "raw",
   "id": "24c495a2",
   "metadata": {},
   "source": [
    "10.4.3　重构\n",
    "重构让代码更清晰、更易于理解、更容易扩展。"
   ]
  },
  {
   "cell_type": "code",
   "execution_count": null,
   "id": "e10b5aa2",
   "metadata": {},
   "outputs": [
    {
     "name": "stdout",
     "output_type": "stream",
     "text": [
      "Welcome back, fuy3pk!\n"
     ]
    }
   ],
   "source": [
    "# a10_4_3_remember_me.py\n",
    "# 重构load_username, dump_username, greet_user\n",
    "\n",
    "import json\n",
    "\n",
    "def load_username():\n",
    "    \"\"\"如果存储了用户名，就获取它\"\"\"\n",
    "    filename = 'a10_4_2_username.json'\n",
    "    try:\n",
    "        with open(filename) as f:\n",
    "            username = json.load(f)\n",
    "    except FileNotFoundError:\n",
    "        return None\n",
    "    else:\n",
    "        return username\n",
    "    \n",
    "def dump_username():\n",
    "    \"\"\"提示用户输入用户名\"\"\"\n",
    "    print(\"Please enter your username or your name:\")\n",
    "    username = input(\"Login:\\t\")\n",
    "    \n",
    "    filename = 'a10_4_2_username.json'\n",
    "    with open(filename, 'w') as f:\n",
    "        json.dump(username, f)\n",
    "    \n",
    "    return username\n",
    "\n",
    "def greet_user():\n",
    "    \"\"\"问候用户，并指出其名字\"\"\"\n",
    "    username = load_username()\n",
    "    if username:\n",
    "        print(f\"Welcome back, {username}!\")\n",
    "    else:\n",
    "        username = dump_username()\n",
    "        print(f\"Welcome to login Python-Beginner, {username}!\")\n",
    "\n",
    "greet_user()"
   ]
  },
  {
   "cell_type": "raw",
   "id": "6143589a",
   "metadata": {},
   "source": [
    "练习10-11：喜欢的数 　编写一个程序，提示用户输入喜欢的数，并使用json.dump() 将这个数存储到文件中。\n",
    "再编写一个程序，从文件中读取这个值，并打印如下所示的消息。\n",
    "I know your favorite number! It's _____."
   ]
  },
  {
   "cell_type": "raw",
   "id": "f909fb43",
   "metadata": {},
   "source": [
    "练习10-12：记住喜欢的数 　将练习10-11中的程序合二为一。\n",
    "如果存储了用户喜欢的数，就向用户显示它，否则提示用户输入喜欢的数并将其存储到文件中。\n",
    "运行这个程序两次，看看它能否像预期的那样工作。"
   ]
  },
  {
   "cell_type": "raw",
   "id": "619c1a44",
   "metadata": {},
   "source": [
    "练习10-13：验证用户 　最后一个remember_me.py版本假设用户要么已输入用户名，要么是首次运行该程序。\n",
    "我们应该修改这个程序，以防当前用户并非上次运行该程序的用户。\n",
    "为此，在greet_user() 中打印欢迎用户回来的消息前，询问他用户名是否正确。\n",
    "如果不对，就调用get_new_username() 让用户输入正确的用户名。"
   ]
  }
 ],
 "metadata": {
  "hide_input": false,
  "kernelspec": {
   "display_name": "Python [conda env:.conda-fyp2023]",
   "language": "python",
   "name": "conda-env-.conda-fyp2023-py"
  },
  "language_info": {
   "codemirror_mode": {
    "name": "ipython",
    "version": 3
   },
   "file_extension": ".py",
   "mimetype": "text/x-python",
   "name": "python",
   "nbconvert_exporter": "python",
   "pygments_lexer": "ipython3",
   "version": "3.11.5"
  },
  "toc": {
   "base_numbering": 1,
   "nav_menu": {},
   "number_sections": true,
   "sideBar": true,
   "skip_h1_title": false,
   "title_cell": "Table of Contents",
   "title_sidebar": "Contents",
   "toc_cell": false,
   "toc_position": {
    "height": "calc(100% - 180px)",
    "left": "10px",
    "top": "150px",
    "width": "165px"
   },
   "toc_section_display": true,
   "toc_window_display": false
  },
  "varInspector": {
   "cols": {
    "lenName": 16,
    "lenType": 16,
    "lenVar": 40
   },
   "kernels_config": {
    "python": {
     "delete_cmd_postfix": "",
     "delete_cmd_prefix": "del ",
     "library": "var_list.py",
     "varRefreshCmd": "print(var_dic_list())"
    },
    "r": {
     "delete_cmd_postfix": ") ",
     "delete_cmd_prefix": "rm(",
     "library": "var_list.r",
     "varRefreshCmd": "cat(var_dic_list()) "
    }
   },
   "position": {
    "height": "396.854px",
    "left": "910px",
    "right": "20px",
    "top": "120px",
    "width": "350px"
   },
   "types_to_exclude": [
    "module",
    "function",
    "builtin_function_or_method",
    "instance",
    "_Feature"
   ],
   "window_display": false
  }
 },
 "nbformat": 4,
 "nbformat_minor": 5
}
