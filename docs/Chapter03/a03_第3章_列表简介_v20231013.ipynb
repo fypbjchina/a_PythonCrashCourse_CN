{
 "cells": [
  {
   "cell_type": "markdown",
   "id": "4363e35b",
   "metadata": {},
   "source": [
    "# 第 3 章　列表简介 / 20231013 <a class=\"tocSkip\">"
   ]
  },
  {
   "cell_type": "raw",
   "id": "5ea6a143",
   "metadata": {},
   "source": [
    "3.1　列表是什么\n",
    "在Python中，用方括号（[]）表示列表，并用逗号分隔其中的元素。\n",
    "3.1.1　访问列表元素: 当你请求获取列表元素时，Python只返回该元素，而不包括方括号[]\n",
    "3.1.2　索引从 0 而不是 1 开始: 通过将索引指定为 [-1] ，可让Python返回最后一个列表元素：\n",
    "3.1.3　使用列表中的各个值"
   ]
  },
  {
   "cell_type": "code",
   "execution_count": null,
   "id": "04c4cb15",
   "metadata": {},
   "outputs": [],
   "source": [
    "a = [1, 2, 3, 4]\n",
    "\n",
    "x = a[3]\n",
    "x"
   ]
  },
  {
   "cell_type": "code",
   "execution_count": null,
   "id": "df311abe",
   "metadata": {},
   "outputs": [],
   "source": [
    "# 3.1-列表，访问，索引，使用\n",
    "\n",
    "cars = ['gm chevrolet', 'vw cross polo', 'vw passat', 'renaut clio']\n",
    "\n",
    "car_01 = f\"1.\\t The first car was {cars[0].upper()}.\"\n",
    "car_02 = f\"2.\\t The sencond car was {cars[1].upper()}.\"\n",
    "car_03 = f\"3.\\t The third car was {cars[2].upper()}.\"\n",
    "car_04 = f\"4.\\t The fourth car was {cars[-1].upper()}.\"\n",
    "\n",
    "print(cars)\n",
    "print(\"\\n\")\n",
    "\n",
    "# 除Matlib外，编程语言从0开始, []取出一个元素，()运行一个函数或方法，{}字典,f引用变量\n",
    "print(cars[0].upper())\n",
    "print(cars[1].upper())\n",
    "print(cars[2].upper())\n",
    "print(cars[-1].upper())\n",
    "print(cars[-2].upper())\n",
    "print(\"\\n\")\n",
    "\n",
    "print(car_01.upper())\n",
    "print(car_02.upper())\n",
    "print(car_03.upper())\n",
    "print(car_04.upper())\n",
    "print(\"\\n\")\n",
    "\n",
    "print(car_01)\n",
    "print(car_02)\n",
    "print(car_03)\n",
    "print(car_04)"
   ]
  },
  {
   "cell_type": "raw",
   "id": "3195f613",
   "metadata": {},
   "source": [
    "3.2　修改、添加和删除元素"
   ]
  },
  {
   "cell_type": "code",
   "execution_count": null,
   "id": "7c53b6a5",
   "metadata": {},
   "outputs": [],
   "source": [
    "# 首先创建一个空列表\n",
    "\n",
    "cars_00 = []\n",
    "print(cars_00)"
   ]
  },
  {
   "cell_type": "raw",
   "id": "c338d9ea",
   "metadata": {},
   "source": [
    "3.2.1　修改列表元素: 要修改列表元素，可指定列表名和要修改的元素的索引，再指定该元素的新值。"
   ]
  },
  {
   "cell_type": "code",
   "execution_count": null,
   "id": "1f0a0243",
   "metadata": {},
   "outputs": [],
   "source": [
    "# 3.2.1-修改元素：指定位置，并赋值\n",
    "\n",
    "cars = ['gm chevrolet', 'vw cross polo', 'vw passat', 'renaut clio']\n",
    "print(cars)\n",
    "\n",
    "cars[2] = 'vw caddy weekender 2'\n",
    "print(cars)"
   ]
  },
  {
   "cell_type": "raw",
   "id": "93f7f363",
   "metadata": {},
   "source": [
    "3.2.2　在列表中添加元素 \n",
    "3.2.2-添加元素使用：末尾添加-方法append(), 插入元素-方法insert()"
   ]
  },
  {
   "cell_type": "code",
   "execution_count": null,
   "id": "25ca51a2",
   "metadata": {},
   "outputs": [],
   "source": [
    "# 01. 末尾添加-方法 append()\n",
    "\n",
    "cars_00 = [] # cars = list()\n",
    "print(cars_00)\n",
    "\n",
    "cars_00.append(\"gm chevrolet\")\n",
    "# cars_00.append(\"'vw cross polo'\")\n",
    "cars_00.append(\"vw passat\")\n",
    "# cars_00.append('renaut clio')\n",
    "cars_00"
   ]
  },
  {
   "cell_type": "code",
   "execution_count": null,
   "id": "feff8955",
   "metadata": {},
   "outputs": [],
   "source": [
    "# list = [1]\n",
    "# list"
   ]
  },
  {
   "cell_type": "code",
   "execution_count": 1,
   "id": "c407ee98",
   "metadata": {},
   "outputs": [
    {
     "data": {
      "text/plain": [
       "[]"
      ]
     },
     "execution_count": 1,
     "metadata": {},
     "output_type": "execute_result"
    }
   ],
   "source": [
    "cars_00 = list()\n",
    "cars_00"
   ]
  },
  {
   "cell_type": "code",
   "execution_count": 5,
   "id": "bf8e1fb4",
   "metadata": {},
   "outputs": [
    {
     "name": "stdout",
     "output_type": "stream",
     "text": [
      "['gm chevrolet', 'vw cross polo', 'vw passat', 'renaut clio']\n",
      "['gm chevrolet', 'vw cross polo', 'vw passat', 'renaut clio', 'vw caddy weekender 2']\n"
     ]
    }
   ],
   "source": [
    "# 02. 插入元素-方法 insert(): 你需要指定新元素的 索引 和 值\n",
    "\n",
    "cars = ['gm chevrolet', 'vw cross polo', 'vw passat', 'renaut clio']\n",
    "print(cars)\n",
    "\n",
    "cars.insert(10,'vw caddy weekender 2') #末尾位置[4]等同于 append()\n",
    "print(cars)"
   ]
  },
  {
   "cell_type": "code",
   "execution_count": 8,
   "id": "497e14cc",
   "metadata": {},
   "outputs": [
    {
     "name": "stdout",
     "output_type": "stream",
     "text": [
      "[1, 2, 'a', 3, 4]\n"
     ]
    }
   ],
   "source": [
    "b = [1,2,3,4]\n",
    "b.insert(2, 'a') # data 不需要引号, 字符需要 ''--> object\n",
    "print(b)"
   ]
  },
  {
   "cell_type": "raw",
   "id": "e421dc61",
   "metadata": {},
   "source": [
    "3.2.3　从列表中删除元素"
   ]
  },
  {
   "cell_type": "code",
   "execution_count": 10,
   "id": "d9571247",
   "metadata": {},
   "outputs": [
    {
     "name": "stdout",
     "output_type": "stream",
     "text": [
      "01.\t删除元素-使用del，无返回删除值\n",
      "\n",
      "['gm chevrolet', 'vw cross polo', 'vw passat', 'renaut clio']\n",
      "['gm chevrolet', 'vw cross polo', 'vw passat']\n"
     ]
    }
   ],
   "source": [
    "# 01. 使用 del 语句删除元素: 使用 del 语句将值从列表中删除后，你就无法再访问它了。\n",
    "print(\"01.\\t删除元素-使用del，无返回删除值\\n\")\n",
    "\n",
    "cars = ['gm chevrolet', 'vw cross polo', 'vw passat', 'renaut clio']\n",
    "print(cars)\n",
    "\n",
    "del cars[-1]\n",
    "print(cars)"
   ]
  },
  {
   "cell_type": "code",
   "execution_count": 11,
   "id": "3b26d51a",
   "metadata": {},
   "outputs": [
    {
     "name": "stdout",
     "output_type": "stream",
     "text": [
      "02.\t删除元素-方法pop(),可以返回删除值\n",
      "\n",
      "['gm chevrolet', 'vw cross polo', 'vw passat', 'renaut clio']\n",
      "['gm chevrolet', 'vw cross polo', 'vw passat']\n",
      "renaut clio\n",
      "['gm chevrolet', 'vw passat']\n",
      "vw cross polo\n"
     ]
    }
   ],
   "source": [
    "# 02. 使用方法 pop() 删除元素: 默认弹出末尾元素，也可指定弹出任意位置元素\n",
    "print(\"02.\\t删除元素-方法pop(),可以返回删除值\\n\")\n",
    "\n",
    "cars = ['gm chevrolet', 'vw cross polo', 'vw passat', 'renaut clio']\n",
    "print(cars)\n",
    "\n",
    "sold_car_1 = cars.pop() # 返回删除值，默认弹出末尾元素\n",
    "print(cars)\n",
    "print(sold_car_1)\n",
    "\n",
    "sold_car_2 = cars.pop(1) # 返回删除值，弹出指定位置元素\n",
    "print(cars)\n",
    "print(sold_car_2)"
   ]
  },
  {
   "cell_type": "code",
   "execution_count": 13,
   "id": "b6abffef",
   "metadata": {},
   "outputs": [
    {
     "name": "stdout",
     "output_type": "stream",
     "text": [
      "04.\t根据值删除元素-方法remove()\n",
      "\n",
      "['gm chevrolet', 'vw cross polo', 'vw passat', 'renaut clio']\n",
      "['gm chevrolet', 'vw cross polo', 'renaut clio']\n",
      "\n",
      "-->The removed car is VW PASSAT!\n"
     ]
    }
   ],
   "source": [
    "# 04. 根据值删除元素, 使用方法 remove(): 不知道要从列表中删除的值所处的位置,只知道要删除的元素的值\n",
    "print(\"04.\\t根据值删除元素-方法remove()\\n\")\n",
    "\n",
    "cars = ['gm chevrolet', 'vw cross polo', 'vw passat', 'renaut clio']\n",
    "print(cars)\n",
    "\n",
    "current_car = 'vw passat'\n",
    "cars.remove(current_car)\n",
    "\n",
    "print(cars)\n",
    "print(f\"\\n-->The removed car is {current_car.upper()}!\")"
   ]
  },
  {
   "cell_type": "raw",
   "id": "23c8e6b5",
   "metadata": {},
   "source": [
    "3.3　组织列表\n",
    "3.3.1　使用方法 sort() 对列表永久排序"
   ]
  },
  {
   "cell_type": "code",
   "execution_count": 17,
   "id": "dfa3add5",
   "metadata": {},
   "outputs": [
    {
     "name": "stdout",
     "output_type": "stream",
     "text": [
      "['gm chevrolet', 'vw cross polo', 'vw passat', 'renaut clio']\n",
      "['gm chevrolet', 'renaut clio', 'vw cross polo', 'vw passat']\n",
      "\n",
      "方法 sort(reverse=True)\n",
      "['gm chevrolet', 'renaut clio', 'vw cross polo', 'vw passat']\n"
     ]
    }
   ],
   "source": [
    "cars = ['gm chevrolet', 'vw cross polo', 'vw passat', 'renaut clio']\n",
    "print(cars)\n",
    "cars.sort()\n",
    "print(cars)\n",
    "\n",
    "# 与字母顺序相反的顺序排列列表元素，只需向 sort() 方法传递参数 reverse=True\n",
    "print(\"\\n方法 sort(reverse=True)\")\n",
    "\n",
    "cars.sort()\n",
    "print(cars)"
   ]
  },
  {
   "cell_type": "raw",
   "id": "8cf8ac5a",
   "metadata": {},
   "source": [
    "3.3.2　使用函数 sorted() 对列表临时排序, 调用函数 sorted() 后，原列表元素的排列顺序并没有变。"
   ]
  },
  {
   "cell_type": "code",
   "execution_count": 18,
   "id": "f75bde53",
   "metadata": {
    "scrolled": true
   },
   "outputs": [
    {
     "name": "stdout",
     "output_type": "stream",
     "text": [
      "Here is the original list:\n",
      "['gm chevrolet', 'renaut clio', 'vw cross polo', 'vw passat']\n",
      "\n",
      "Here is the sorted list:--> 列表的顺序临时改变后的结果\n",
      "['vw passat', 'vw cross polo', 'renaut clio', 'gm chevrolet']\n",
      "\n",
      "Here is the original list again:\n",
      "['gm chevrolet', 'renaut clio', 'vw cross polo', 'vw passat']\n"
     ]
    }
   ],
   "source": [
    "# 3.3.2-临时排序: 函数 sorted()\n",
    "\n",
    "print(\"Here is the original list:\")\n",
    "print(cars)\n",
    "\n",
    "print(\"\\nHere is the sorted list:--> 列表的顺序临时改变后的结果\")\n",
    "new_list = sorted(cars, reverse=True) \n",
    "# print(sorted(cars))\n",
    "print(new_list)\n",
    "\n",
    "print(\"\\nHere is the original list again:\")\n",
    "print(cars)"
   ]
  },
  {
   "cell_type": "raw",
   "id": "ec536f15",
   "metadata": {},
   "source": [
    "3.3.3　倒着打印列表: 要反转列表元素的排列顺序，可使用方法 reverse()"
   ]
  },
  {
   "cell_type": "code",
   "execution_count": 19,
   "id": "f361bb2e",
   "metadata": {},
   "outputs": [
    {
     "name": "stdout",
     "output_type": "stream",
     "text": [
      "['gm chevrolet', 'vw cross polo', 'vw passat', 'renaut clio']\n",
      "['renaut clio', 'vw passat', 'vw cross polo', 'gm chevrolet']\n"
     ]
    }
   ],
   "source": [
    "cars = ['gm chevrolet', 'vw cross polo', 'vw passat', 'renaut clio']\n",
    "print(cars)\n",
    "\n",
    "cars.reverse() #方法必须跟在Object后面，用.连接\n",
    "print(cars)"
   ]
  },
  {
   "cell_type": "code",
   "execution_count": 20,
   "id": "cedfa258",
   "metadata": {},
   "outputs": [
    {
     "name": "stdout",
     "output_type": "stream",
     "text": [
      "3.3.4-函数len()\n",
      "\n",
      "-->\t There were 4 cars used in the past years, \n",
      "\t currently he drives the car GM CHEVROLET since 2019!\n"
     ]
    }
   ],
   "source": [
    "# 3.3.4　确定列表的长度: 使用函数 len()\n",
    "print(\"3.3.4-函数len()\\n\")\n",
    "\n",
    "print(f\"-->\\t There were {len(cars)} cars used in the past years, \\n\\t currently he drives the car {cars[-1].upper()} since 2019!\")"
   ]
  },
  {
   "cell_type": "code",
   "execution_count": 25,
   "id": "4e0c07de",
   "metadata": {},
   "outputs": [
    {
     "name": "stdout",
     "output_type": "stream",
     "text": [
      "1 [1, 2] [[1, 2, 3]] 4\n"
     ]
    }
   ],
   "source": [
    "# 列表的列表\n",
    "\n",
    "list_0 = [[[[[1]]]], [[[[1, 2]]]], [[[[1, 2, 3]]]], [[[[1, 2, 3, 4]]]]]\n",
    "\n",
    "list_1 = list_0[0][0][0][0][0]\n",
    "list_2 = list_0[1][0][0][0]\n",
    "list_3 = list_0[2][0][0]\n",
    "list_4 = list_0[3][0][0][0][3]\n",
    "\n",
    "print(list_1, list_2, list_3, list_4)"
   ]
  },
  {
   "cell_type": "code",
   "execution_count": 23,
   "id": "a7e70ce2",
   "metadata": {},
   "outputs": [
    {
     "name": "stdout",
     "output_type": "stream",
     "text": [
      "1 ? ?\n"
     ]
    }
   ],
   "source": [
    "# 字典的列表 or 列表的字典\n",
    "dict = [\n",
    "        {'a': 1}, \n",
    "        {'b': [1, [1, [1, {'hello': 2}]]]},  \n",
    "        {'c': [1, [1, [1, 2]], [1, [1, 2], [1, [1, 2], [1, [1, 2], [1, [1, 2], [1, 2, {'hello': 3}]]]]]]},\n",
    "        ]\n",
    "\n",
    "dict_1 = dict[0]['a']\n",
    "dict_2 = \"?\"\n",
    "dict_3 = \"?\"\n",
    "\n",
    "print(dict_1, dict_2, dict_3)"
   ]
  },
  {
   "cell_type": "code",
   "execution_count": 24,
   "id": "04fdf73e",
   "metadata": {},
   "outputs": [
    {
     "name": "stdout",
     "output_type": "stream",
     "text": [
      "1 2 3\n"
     ]
    }
   ],
   "source": [
    "dict_1 = dict[0]['a']\n",
    "dict_2 = dict[1]['b'][1][1][1]['hello']\n",
    "dict_3 = dict[2]['c'][2][2][2][2][2][2]['hello']\n",
    "\n",
    "print(dict_1, dict_2, dict_3)"
   ]
  }
 ],
 "metadata": {
  "kernelspec": {
   "display_name": "Python 3 (ipykernel)",
   "language": "python",
   "name": "python3"
  },
  "language_info": {
   "codemirror_mode": {
    "name": "ipython",
    "version": 3
   },
   "file_extension": ".py",
   "mimetype": "text/x-python",
   "name": "python",
   "nbconvert_exporter": "python",
   "pygments_lexer": "ipython3",
   "version": "3.9.7"
  },
  "toc": {
   "base_numbering": 1,
   "nav_menu": {
    "height": "251px",
    "width": "476px"
   },
   "number_sections": true,
   "sideBar": true,
   "skip_h1_title": false,
   "title_cell": "Table of Contents",
   "title_sidebar": "Contents",
   "toc_cell": false,
   "toc_position": {
    "height": "calc(100% - 180px)",
    "left": "10px",
    "top": "150px",
    "width": "165px"
   },
   "toc_section_display": true,
   "toc_window_display": true
  },
  "varInspector": {
   "cols": {
    "lenName": 16,
    "lenType": 16,
    "lenVar": 40
   },
   "kernels_config": {
    "python": {
     "delete_cmd_postfix": "",
     "delete_cmd_prefix": "del ",
     "library": "var_list.py",
     "varRefreshCmd": "print(var_dic_list())"
    },
    "r": {
     "delete_cmd_postfix": ") ",
     "delete_cmd_prefix": "rm(",
     "library": "var_list.r",
     "varRefreshCmd": "cat(var_dic_list()) "
    }
   },
   "position": {
    "height": "396.854px",
    "left": "910px",
    "right": "20px",
    "top": "120px",
    "width": "350px"
   },
   "types_to_exclude": [
    "module",
    "function",
    "builtin_function_or_method",
    "instance",
    "_Feature"
   ],
   "window_display": false
  }
 },
 "nbformat": 4,
 "nbformat_minor": 5
}
